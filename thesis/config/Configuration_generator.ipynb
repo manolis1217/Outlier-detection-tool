{
 "cells": [
  {
   "cell_type": "code",
   "execution_count": 2,
   "id": "2ba7c05d",
   "metadata": {},
   "outputs": [],
   "source": [
    "import configparser"
   ]
  },
  {
   "cell_type": "markdown",
   "id": "d4e5d7d0",
   "metadata": {},
   "source": [
    "####  Built based on hyper-parameter tuning"
   ]
  },
  {
   "cell_type": "code",
   "execution_count": 4,
   "id": "012a46fa",
   "metadata": {},
   "outputs": [
    {
     "name": "stdout",
     "output_type": "stream",
     "text": [
      "Config file 'configuration.ini' created\n"
     ]
    }
   ],
   "source": [
    "config_file = configparser.ConfigParser()\n",
    "# ADD SECTION\n",
    "config_file.add_section(\"small\")\n",
    "config_file.add_section(\"big\")\n",
    "\n",
    "# ADD SETTINGS TO SECTION\n",
    "#small\n",
    "config_file.set(\"small\", \"epochs\", \"20\")\n",
    "config_file.set(\"small\", \"batch_size\", \"128\")\n",
    "config_file.set(\"small\", \"activation_function\", \"tanh\")\n",
    "config_file.set(\"small\", \"lay\", 'long')\n",
    "config_file.set(\"small\", \"estimators\", '400')\n",
    "\n",
    "config_file.set(\"big\", \"epochs\", \"100\")\n",
    "config_file.set(\"big\", \"batch_size\", \"32\")\n",
    "config_file.set(\"big\", \"activation_function\", \"relu\")\n",
    "config_file.set(\"big\", \"lay\", 'short')\n",
    "config_file.set(\"big\", \"estimators\", '50')\n",
    "\n",
    "with open(r\"configuration.ini\", 'w') as configfileObj:\n",
    "    config_file.write(configfileObj)\n",
    "    configfileObj.flush()\n",
    "    configfileObj.close()\n",
    "print(\"Config file 'configuration.ini' created\")\n",
    "\n",
    "# config_file = configparser.ConfigParser()\n",
    "# # ADD SECTION\n",
    "# config_file.add_section(\"Autoencoder\")\n",
    "# #big\n",
    "# config_file.set(\"Autoencoder\", \"epochs\", \"100\")\n",
    "# config_file.set(\"Autoencoder\", \"batch_size\", \"32\")\n",
    "# config_file.set(\"Autoencoder\", \"activation_function\", \"relu\")\n",
    "# config_file.set(\"Autoencoder\", \"lay\", 'short')\n",
    "\n",
    "# with open(r\"AE_big.ini\", 'w') as configfileObj:\n",
    "#     config_file.write(configfileObj)\n",
    "#     configfileObj.flush()\n",
    "#     configfileObj.close()\n",
    "# print(\"Config file 'AE_big.ini' created\")\n",
    "\n",
    "# config_file = configparser.ConfigParser()\n",
    "# config_file.add_section(\"IF\")\n",
    "# #small\n",
    "# config_file.set(\"IF\", \"estimators\", \"50\")\n",
    "# with open(r\"IF_small.ini\", 'w') as configfileObj:\n",
    "#     config_file.write(configfileObj)\n",
    "#     configfileObj.flush()\n",
    "#     configfileObj.close()\n",
    "    \n",
    "# config_file = configparser.ConfigParser()\n",
    "# config_file.add_section(\"IF\")\n",
    "# #big\n",
    "# config_file.set(\"IF\", \"estimators\", \"400\")\n",
    "# with open(r\"IF_big.ini\", 'w') as configfileObj:\n",
    "#     config_file.write(configfileObj)\n",
    "#     configfileObj.flush()\n",
    "#     configfileObj.close()"
   ]
  }
 ],
 "metadata": {
  "kernelspec": {
   "display_name": "Python 3 (ipykernel)",
   "language": "python",
   "name": "python3"
  },
  "language_info": {
   "codemirror_mode": {
    "name": "ipython",
    "version": 3
   },
   "file_extension": ".py",
   "mimetype": "text/x-python",
   "name": "python",
   "nbconvert_exporter": "python",
   "pygments_lexer": "ipython3",
   "version": "3.8.8"
  }
 },
 "nbformat": 4,
 "nbformat_minor": 5
}
