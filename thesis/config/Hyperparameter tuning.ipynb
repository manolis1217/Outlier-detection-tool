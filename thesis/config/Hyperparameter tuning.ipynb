{
 "cells": [
  {
   "cell_type": "code",
   "execution_count": null,
   "metadata": {},
   "outputs": [],
   "source": []
  },
  {
   "cell_type": "code",
   "execution_count": null,
   "metadata": {},
   "outputs": [],
   "source": []
  },
  {
   "cell_type": "code",
   "execution_count": null,
   "metadata": {},
   "outputs": [],
   "source": []
  },
  {
   "cell_type": "code",
   "execution_count": 1,
   "metadata": {},
   "outputs": [],
   "source": [
    "import my_functions as my_func\n",
    "import pyod\n",
    "import random \n",
    "import networkx as nx\n",
    "import numpy as np\n",
    "import scipy.io\n",
    "import time\n",
    "import pandas as pd\n",
    "import matplotlib.pyplot as plt\n",
    "from collections import Counter\n",
    "from sklearn.ensemble import IsolationForest\n",
    "from pyod.models import loda\n",
    "from sklearn.model_selection import GridSearchCV\n",
    "from sklearn.model_selection import RepeatedStratifiedKFold\n",
    "from pyod.models import auto_encoder"
   ]
  },
  {
   "cell_type": "markdown",
   "metadata": {},
   "source": [
    "### Hyperparameter tuning in Autoencoder"
   ]
  },
  {
   "cell_type": "markdown",
   "metadata": {},
   "source": [
    "##### Mulcross dataset\n"
   ]
  },
  {
   "cell_type": "code",
   "execution_count": 2,
   "metadata": {},
   "outputs": [],
   "source": [
    "mulcross=pd.read_csv(r\"C:\\Users\\Manolis\\thesis\\thesis\\Datasets\\Mulcross1.csv\")\n",
    "label=mulcross.Target\n",
    "mulcross=mulcross.iloc[:,0:4]"
   ]
  },
  {
   "cell_type": "code",
   "execution_count": 3,
   "metadata": {},
   "outputs": [
    {
     "name": "stderr",
     "output_type": "stream",
     "text": [
      "C:\\Users\\Manolis\\anaconda3\\lib\\site-packages\\pyod\\models\\base.py:412: UserWarning: y should not be presented in unsupervised learning.\n",
      "  warnings.warn(\n"
     ]
    },
    {
     "name": "stdout",
     "output_type": "stream",
     "text": [
      "Model: \"sequential\"\n",
      "_________________________________________________________________\n",
      "Layer (type)                 Output Shape              Param #   \n",
      "=================================================================\n",
      "dense (Dense)                (None, 4)                 20        \n",
      "_________________________________________________________________\n",
      "dropout (Dropout)            (None, 4)                 0         \n",
      "_________________________________________________________________\n",
      "dense_1 (Dense)              (None, 4)                 20        \n",
      "_________________________________________________________________\n",
      "dropout_1 (Dropout)          (None, 4)                 0         \n",
      "_________________________________________________________________\n",
      "dense_2 (Dense)              (None, 64)                320       \n",
      "_________________________________________________________________\n",
      "dropout_2 (Dropout)          (None, 64)                0         \n",
      "_________________________________________________________________\n",
      "dense_3 (Dense)              (None, 32)                2080      \n",
      "_________________________________________________________________\n",
      "dropout_3 (Dropout)          (None, 32)                0         \n",
      "_________________________________________________________________\n",
      "dense_4 (Dense)              (None, 16)                528       \n",
      "_________________________________________________________________\n",
      "dropout_4 (Dropout)          (None, 16)                0         \n",
      "_________________________________________________________________\n",
      "dense_5 (Dense)              (None, 1)                 17        \n",
      "_________________________________________________________________\n",
      "dropout_5 (Dropout)          (None, 1)                 0         \n",
      "_________________________________________________________________\n",
      "dense_6 (Dense)              (None, 16)                32        \n",
      "_________________________________________________________________\n",
      "dropout_6 (Dropout)          (None, 16)                0         \n",
      "_________________________________________________________________\n",
      "dense_7 (Dense)              (None, 32)                544       \n",
      "_________________________________________________________________\n",
      "dropout_7 (Dropout)          (None, 32)                0         \n",
      "_________________________________________________________________\n",
      "dense_8 (Dense)              (None, 64)                2112      \n",
      "_________________________________________________________________\n",
      "dropout_8 (Dropout)          (None, 64)                0         \n",
      "_________________________________________________________________\n",
      "dense_9 (Dense)              (None, 4)                 260       \n",
      "=================================================================\n",
      "Total params: 5,933\n",
      "Trainable params: 5,933\n",
      "Non-trainable params: 0\n",
      "_________________________________________________________________\n",
      "None\n",
      "Epoch 1/100\n",
      "7373/7373 [==============================] - 7s 986us/step - loss: 1.0338 - val_loss: 1.0024\n",
      "Epoch 2/100\n",
      "7373/7373 [==============================] - 7s 983us/step - loss: 1.0019 - val_loss: 0.9996\n",
      "Epoch 3/100\n",
      "7373/7373 [==============================] - 7s 979us/step - loss: 1.0007 - val_loss: 0.9991\n",
      "Epoch 4/100\n",
      "7373/7373 [==============================] - 8s 1ms/step - loss: 1.0003 - val_loss: 0.9989\n",
      "Epoch 5/100\n",
      "7373/7373 [==============================] - 7s 966us/step - loss: 1.0002 - val_loss: 0.9988\n",
      "Epoch 6/100\n",
      "7373/7373 [==============================] - 7s 961us/step - loss: 1.0002 - val_loss: 0.9988\n",
      "Epoch 7/100\n",
      "7373/7373 [==============================] - 7s 962us/step - loss: 1.0002 - val_loss: 0.9988\n",
      "Epoch 8/100\n",
      "7373/7373 [==============================] - 7s 956us/step - loss: 1.0001 - val_loss: 0.9988\n",
      "Epoch 9/100\n",
      "7373/7373 [==============================] - 7s 950us/step - loss: 1.0001 - val_loss: 0.9988\n",
      "Epoch 10/100\n",
      "7373/7373 [==============================] - 7s 956us/step - loss: 1.0001 - val_loss: 0.9988\n",
      "Epoch 11/100\n",
      "7373/7373 [==============================] - 7s 957us/step - loss: 1.0001 - val_loss: 0.9988\n",
      "Epoch 12/100\n",
      "7373/7373 [==============================] - 7s 938us/step - loss: 1.0001 - val_loss: 0.9988\n",
      "Epoch 13/100\n",
      "7373/7373 [==============================] - 7s 930us/step - loss: 1.0001 - val_loss: 0.9988\n",
      "Epoch 14/100\n",
      "7373/7373 [==============================] - 7s 935us/step - loss: 1.0001 - val_loss: 0.9988\n",
      "Epoch 15/100\n",
      "7373/7373 [==============================] - 7s 934us/step - loss: 1.0001 - val_loss: 0.9988\n",
      "Epoch 16/100\n",
      "7373/7373 [==============================] - 7s 936us/step - loss: 1.0001 - val_loss: 0.9988\n",
      "Epoch 17/100\n",
      "7373/7373 [==============================] - 7s 934us/step - loss: 1.0001 - val_loss: 0.9988\n",
      "Epoch 18/100\n",
      "7373/7373 [==============================] - 7s 935us/step - loss: 1.0001 - val_loss: 0.9988\n",
      "Epoch 19/100\n",
      "7373/7373 [==============================] - 7s 937us/step - loss: 1.0001 - val_loss: 0.9988\n",
      "Epoch 20/100\n",
      "7373/7373 [==============================] - 7s 959us/step - loss: 1.0001 - val_loss: 0.9988\n",
      "Epoch 21/100\n",
      "7373/7373 [==============================] - 7s 952us/step - loss: 1.0001 - val_loss: 0.9988\n",
      "Epoch 22/100\n",
      "7373/7373 [==============================] - 7s 935us/step - loss: 1.0001 - val_loss: 0.9988\n",
      "Epoch 23/100\n",
      "7373/7373 [==============================] - 7s 935us/step - loss: 1.0001 - val_loss: 0.9988\n",
      "Epoch 24/100\n",
      "7373/7373 [==============================] - 7s 939us/step - loss: 1.0001 - val_loss: 0.9988\n",
      "Epoch 25/100\n",
      "7373/7373 [==============================] - 7s 947us/step - loss: 1.0001 - val_loss: 0.9988\n",
      "Epoch 26/100\n",
      "7373/7373 [==============================] - 7s 931us/step - loss: 1.0001 - val_loss: 0.9988\n",
      "Epoch 27/100\n",
      "7373/7373 [==============================] - 7s 938us/step - loss: 1.0001 - val_loss: 0.9988\n",
      "Epoch 28/100\n",
      "7373/7373 [==============================] - 7s 936us/step - loss: 1.0001 - val_loss: 0.9988\n",
      "Epoch 29/100\n",
      "7373/7373 [==============================] - 7s 946us/step - loss: 1.0001 - val_loss: 0.9988\n",
      "Epoch 30/100\n",
      "7373/7373 [==============================] - 7s 939us/step - loss: 1.0001 - val_loss: 0.9988\n",
      "Epoch 31/100\n",
      "7373/7373 [==============================] - 7s 945us/step - loss: 1.0001 - val_loss: 0.9988\n",
      "Epoch 32/100\n",
      "7373/7373 [==============================] - 7s 946us/step - loss: 1.0001 - val_loss: 0.9988\n",
      "Epoch 33/100\n",
      "7373/7373 [==============================] - 7s 943us/step - loss: 1.0001 - val_loss: 0.9988\n",
      "Epoch 34/100\n",
      "7373/7373 [==============================] - 7s 946us/step - loss: 1.0001 - val_loss: 0.9988\n",
      "Epoch 35/100\n",
      "7373/7373 [==============================] - 7s 933us/step - loss: 1.0001 - val_loss: 0.9988\n",
      "Epoch 36/100\n",
      "7373/7373 [==============================] - 7s 933us/step - loss: 1.0001 - val_loss: 0.9988\n",
      "Epoch 37/100\n",
      "7373/7373 [==============================] - 7s 938us/step - loss: 1.0001 - val_loss: 0.9988\n",
      "Epoch 38/100\n",
      "7373/7373 [==============================] - 7s 939us/step - loss: 1.0001 - val_loss: 0.9988\n",
      "Epoch 39/100\n",
      "7373/7373 [==============================] - 7s 934us/step - loss: 1.0001 - val_loss: 0.9988\n",
      "Epoch 40/100\n",
      "7373/7373 [==============================] - 7s 945us/step - loss: 1.0001 - val_loss: 0.9988\n",
      "Epoch 41/100\n",
      "7373/7373 [==============================] - 7s 943us/step - loss: 1.0001 - val_loss: 0.9988\n",
      "Epoch 42/100\n",
      "7373/7373 [==============================] - 7s 944us/step - loss: 1.0001 - val_loss: 0.9988\n",
      "Epoch 43/100\n",
      "7373/7373 [==============================] - 7s 947us/step - loss: 1.0001 - val_loss: 0.9988\n",
      "Epoch 44/100\n",
      "7373/7373 [==============================] - 7s 937us/step - loss: 1.0001 - val_loss: 0.9988\n",
      "Epoch 45/100\n",
      "7373/7373 [==============================] - 7s 941us/step - loss: 1.0001 - val_loss: 0.9988\n",
      "Epoch 46/100\n",
      "7373/7373 [==============================] - 7s 942us/step - loss: 1.0001 - val_loss: 0.9988\n",
      "Epoch 47/100\n",
      "7373/7373 [==============================] - 7s 940us/step - loss: 1.0001 - val_loss: 0.9988\n",
      "Epoch 48/100\n",
      "7373/7373 [==============================] - 7s 936us/step - loss: 1.0001 - val_loss: 0.9988\n",
      "Epoch 49/100\n",
      "7373/7373 [==============================] - 7s 937us/step - loss: 1.0001 - val_loss: 0.9988\n",
      "Epoch 50/100\n",
      "7373/7373 [==============================] - 7s 935us/step - loss: 1.0001 - val_loss: 0.9988\n",
      "Epoch 51/100\n",
      "7373/7373 [==============================] - 7s 932us/step - loss: 1.0001 - val_loss: 0.9988\n",
      "Epoch 52/100\n",
      "7373/7373 [==============================] - 7s 930us/step - loss: 1.0001 - val_loss: 0.9988\n",
      "Epoch 53/100\n",
      "7373/7373 [==============================] - 7s 935us/step - loss: 1.0001 - val_loss: 0.9988\n",
      "Epoch 54/100\n",
      "7373/7373 [==============================] - 7s 936us/step - loss: 1.0001 - val_loss: 0.9988\n",
      "Epoch 55/100\n",
      "7373/7373 [==============================] - 7s 937us/step - loss: 1.0001 - val_loss: 0.9988\n",
      "Epoch 56/100\n",
      "7373/7373 [==============================] - 7s 939us/step - loss: 1.0001 - val_loss: 0.9988\n",
      "Epoch 57/100\n",
      "7373/7373 [==============================] - 7s 942us/step - loss: 1.0001 - val_loss: 0.9988\n",
      "Epoch 58/100\n",
      "7373/7373 [==============================] - 7s 934us/step - loss: 1.0001 - val_loss: 0.9988\n",
      "Epoch 59/100\n",
      "7373/7373 [==============================] - 7s 932us/step - loss: 1.0001 - val_loss: 0.9988\n",
      "Epoch 60/100\n",
      "7373/7373 [==============================] - 7s 933us/step - loss: 1.0001 - val_loss: 0.9988\n",
      "Epoch 61/100\n",
      "7373/7373 [==============================] - 7s 934us/step - loss: 1.0001 - val_loss: 0.9988\n",
      "Epoch 62/100\n",
      "7373/7373 [==============================] - 7s 935us/step - loss: 1.0001 - val_loss: 0.9988\n",
      "Epoch 63/100\n",
      "7373/7373 [==============================] - 7s 937us/step - loss: 1.0001 - val_loss: 0.9988\n",
      "Epoch 64/100\n",
      "7373/7373 [==============================] - 7s 932us/step - loss: 1.0001 - val_loss: 0.9988\n",
      "Epoch 65/100\n",
      "7373/7373 [==============================] - 7s 942us/step - loss: 1.0001 - val_loss: 0.9988\n",
      "Epoch 66/100\n",
      "7373/7373 [==============================] - 7s 944us/step - loss: 1.0001 - val_loss: 0.9988\n",
      "Epoch 67/100\n",
      "7373/7373 [==============================] - 7s 943us/step - loss: 1.0001 - val_loss: 0.9988\n",
      "Epoch 68/100\n",
      "7373/7373 [==============================] - 7s 936us/step - loss: 1.0001 - val_loss: 0.9988\n",
      "Epoch 69/100\n",
      "7373/7373 [==============================] - 7s 934us/step - loss: 1.0001 - val_loss: 0.9988\n",
      "Epoch 70/100\n",
      "7373/7373 [==============================] - 7s 933us/step - loss: 1.0001 - val_loss: 0.9988\n",
      "Epoch 71/100\n",
      "7373/7373 [==============================] - 7s 933us/step - loss: 1.0001 - val_loss: 0.9988\n",
      "Epoch 72/100\n",
      "7373/7373 [==============================] - 7s 936us/step - loss: 1.0001 - val_loss: 0.9988\n",
      "Epoch 73/100\n",
      "7373/7373 [==============================] - 7s 943us/step - loss: 1.0001 - val_loss: 0.9988\n",
      "Epoch 74/100\n",
      "7373/7373 [==============================] - 7s 932us/step - loss: 1.0001 - val_loss: 0.9988\n",
      "Epoch 75/100\n",
      "7373/7373 [==============================] - 7s 937us/step - loss: 1.0001 - val_loss: 0.9988\n",
      "Epoch 76/100\n",
      "7373/7373 [==============================] - 7s 939us/step - loss: 1.0001 - val_loss: 0.9988\n",
      "Epoch 77/100\n",
      "7373/7373 [==============================] - 7s 933us/step - loss: 1.0001 - val_loss: 0.9988\n",
      "Epoch 78/100\n",
      "7373/7373 [==============================] - 7s 936us/step - loss: 1.0001 - val_loss: 0.9988\n",
      "Epoch 79/100\n",
      "7373/7373 [==============================] - 7s 939us/step - loss: 1.0001 - val_loss: 0.9988\n",
      "Epoch 80/100\n",
      "7373/7373 [==============================] - 7s 937us/step - loss: 1.0001 - val_loss: 0.9988\n",
      "Epoch 81/100\n",
      "7373/7373 [==============================] - 7s 939us/step - loss: 1.0001 - val_loss: 0.9988\n",
      "Epoch 82/100\n",
      "7373/7373 [==============================] - 7s 941us/step - loss: 1.0001 - val_loss: 0.9988\n",
      "Epoch 83/100\n",
      "7373/7373 [==============================] - 7s 942us/step - loss: 1.0001 - val_loss: 0.9988\n",
      "Epoch 84/100\n",
      "7373/7373 [==============================] - 7s 947us/step - loss: 1.0001 - val_loss: 0.9988\n",
      "Epoch 85/100\n",
      "7373/7373 [==============================] - 7s 950us/step - loss: 1.0001 - val_loss: 0.9988\n",
      "Epoch 86/100\n",
      "7373/7373 [==============================] - 7s 941us/step - loss: 1.0001 - val_loss: 0.9988\n",
      "Epoch 87/100\n",
      "7373/7373 [==============================] - 7s 930us/step - loss: 1.0001 - val_loss: 0.9988\n",
      "Epoch 88/100\n",
      "7373/7373 [==============================] - 7s 942us/step - loss: 1.0001 - val_loss: 0.9988\n",
      "Epoch 89/100\n",
      "7373/7373 [==============================] - 7s 951us/step - loss: 1.0001 - val_loss: 0.9988\n",
      "Epoch 90/100\n",
      "7373/7373 [==============================] - 7s 949us/step - loss: 1.0001 - val_loss: 0.9988\n",
      "Epoch 91/100\n",
      "7373/7373 [==============================] - 7s 936us/step - loss: 1.0001 - val_loss: 0.9988\n",
      "Epoch 92/100\n",
      "7373/7373 [==============================] - 7s 932us/step - loss: 1.0001 - val_loss: 0.9988\n",
      "Epoch 93/100\n",
      "7373/7373 [==============================] - 7s 937us/step - loss: 1.0001 - val_loss: 0.9988\n",
      "Epoch 94/100\n",
      "7373/7373 [==============================] - 7s 938us/step - loss: 1.0001 - val_loss: 0.9988\n",
      "Epoch 95/100\n",
      "7373/7373 [==============================] - 7s 934us/step - loss: 1.0001 - val_loss: 0.9988\n",
      "Epoch 96/100\n",
      "7373/7373 [==============================] - 7s 938us/step - loss: 1.0001 - val_loss: 0.9988\n",
      "Epoch 97/100\n",
      "7373/7373 [==============================] - 7s 939us/step - loss: 1.0001 - val_loss: 0.9988\n",
      "Epoch 98/100\n",
      "7373/7373 [==============================] - 7s 945us/step - loss: 1.0001 - val_loss: 0.9988\n",
      "Epoch 99/100\n",
      "7373/7373 [==============================] - 7s 938us/step - loss: 1.0001 - val_loss: 0.9988\n",
      "Epoch 100/100\n",
      "7373/7373 [==============================] - 7s 936us/step - loss: 1.0001 - val_loss: 0.9988\n",
      "46023.06503367424\n"
     ]
    },
    {
     "data": {
      "text/plain": [
       "{'batch_size': 32,\n",
       " 'epochs': 100,\n",
       " 'hidden_activation': 'relu',\n",
       " 'hidden_neurons': [64, 32, 16, 1, 16, 32, 64]}"
      ]
     },
     "execution_count": 3,
     "metadata": {},
     "output_type": "execute_result"
    }
   ],
   "source": [
    "from sklearn.model_selection import GridSearchCV\n",
    "start=time.time()\n",
    "model = pyod.models.auto_encoder.AutoEncoder()\n",
    "# define search space\n",
    "space = dict([('hidden_neurons',[[64,32,16,1,16,32,64],[32,16,1,16,32],[4,1,4]]),\n",
    "             ('epochs',[20,50,100]),\n",
    "             ('hidden_activation',['relu','tanh']),\n",
    "             ('batch_size',[32,64,128])]\n",
    ")\n",
    "cv = RepeatedStratifiedKFold(n_splits=10, n_repeats=3, random_state=1)\n",
    "# define search\n",
    "search = GridSearchCV(model, space, scoring='accuracy',n_jobs=-1,cv=cv)\n",
    "result = search.fit(mulcross,label)\n",
    "print(time.time()-start)\n",
    "result.best_params_"
   ]
  },
  {
   "cell_type": "markdown",
   "metadata": {},
   "source": [
    "##### Vertebral dataset"
   ]
  },
  {
   "cell_type": "code",
   "execution_count": 4,
   "metadata": {},
   "outputs": [],
   "source": [
    "matfile = scipy.io.loadmat(r\"C:\\Users\\Manolis\\thesis\\thesis\\Datasets\\vertebral.mat\")\n",
    "tuples=matfile[\"X\"]\n",
    "label=matfile[\"y\"]\n",
    "Vertebral=pd.DataFrame(columns=['pelvic incidence', 'pelvic tilt', 'lumbar lordosis angle', 'sacral slope', 'pelvic radius',' grade of spondylolisthesis'])\n",
    "for i in range(len(tuples)):\n",
    "    Vertebral.loc[len(Vertebral)] = tuples[i]\n",
    "Vertebral_label=Vertebral.copy()\n",
    "Vertebral_label['label']=label "
   ]
  },
  {
   "cell_type": "code",
   "execution_count": 5,
   "metadata": {},
   "outputs": [
    {
     "name": "stderr",
     "output_type": "stream",
     "text": [
      "C:\\Users\\Manolis\\anaconda3\\lib\\site-packages\\joblib\\externals\\loky\\process_executor.py:702: UserWarning: A worker stopped while some jobs were given to the executor. This can be caused by a too short worker timeout or by a memory leak.\n",
      "  warnings.warn(\n",
      "C:\\Users\\Manolis\\anaconda3\\lib\\site-packages\\joblib\\externals\\loky\\process_executor.py:702: UserWarning: A worker stopped while some jobs were given to the executor. This can be caused by a too short worker timeout or by a memory leak.\n",
      "  warnings.warn(\n",
      "C:\\Users\\Manolis\\anaconda3\\lib\\site-packages\\joblib\\externals\\loky\\process_executor.py:702: UserWarning: A worker stopped while some jobs were given to the executor. This can be caused by a too short worker timeout or by a memory leak.\n",
      "  warnings.warn(\n",
      "C:\\Users\\Manolis\\anaconda3\\lib\\site-packages\\joblib\\externals\\loky\\process_executor.py:702: UserWarning: A worker stopped while some jobs were given to the executor. This can be caused by a too short worker timeout or by a memory leak.\n",
      "  warnings.warn(\n",
      "C:\\Users\\Manolis\\anaconda3\\lib\\site-packages\\joblib\\externals\\loky\\process_executor.py:702: UserWarning: A worker stopped while some jobs were given to the executor. This can be caused by a too short worker timeout or by a memory leak.\n",
      "  warnings.warn(\n",
      "C:\\Users\\Manolis\\anaconda3\\lib\\site-packages\\joblib\\externals\\loky\\process_executor.py:702: UserWarning: A worker stopped while some jobs were given to the executor. This can be caused by a too short worker timeout or by a memory leak.\n",
      "  warnings.warn(\n",
      "C:\\Users\\Manolis\\anaconda3\\lib\\site-packages\\joblib\\externals\\loky\\process_executor.py:702: UserWarning: A worker stopped while some jobs were given to the executor. This can be caused by a too short worker timeout or by a memory leak.\n",
      "  warnings.warn(\n",
      "C:\\Users\\Manolis\\anaconda3\\lib\\site-packages\\joblib\\externals\\loky\\process_executor.py:702: UserWarning: A worker stopped while some jobs were given to the executor. This can be caused by a too short worker timeout or by a memory leak.\n",
      "  warnings.warn(\n",
      "C:\\Users\\Manolis\\anaconda3\\lib\\site-packages\\joblib\\externals\\loky\\process_executor.py:702: UserWarning: A worker stopped while some jobs were given to the executor. This can be caused by a too short worker timeout or by a memory leak.\n",
      "  warnings.warn(\n",
      "C:\\Users\\Manolis\\anaconda3\\lib\\site-packages\\joblib\\externals\\loky\\process_executor.py:702: UserWarning: A worker stopped while some jobs were given to the executor. This can be caused by a too short worker timeout or by a memory leak.\n",
      "  warnings.warn(\n",
      "C:\\Users\\Manolis\\anaconda3\\lib\\site-packages\\joblib\\externals\\loky\\process_executor.py:702: UserWarning: A worker stopped while some jobs were given to the executor. This can be caused by a too short worker timeout or by a memory leak.\n",
      "  warnings.warn(\n",
      "C:\\Users\\Manolis\\anaconda3\\lib\\site-packages\\pyod\\models\\base.py:412: UserWarning: y should not be presented in unsupervised learning.\n",
      "  warnings.warn(\n"
     ]
    },
    {
     "name": "stdout",
     "output_type": "stream",
     "text": [
      "Model: \"sequential_1\"\n",
      "_________________________________________________________________\n",
      "Layer (type)                 Output Shape              Param #   \n",
      "=================================================================\n",
      "dense_10 (Dense)             (None, 6)                 42        \n",
      "_________________________________________________________________\n",
      "dropout_9 (Dropout)          (None, 6)                 0         \n",
      "_________________________________________________________________\n",
      "dense_11 (Dense)             (None, 6)                 42        \n",
      "_________________________________________________________________\n",
      "dropout_10 (Dropout)         (None, 6)                 0         \n",
      "_________________________________________________________________\n",
      "dense_12 (Dense)             (None, 32)                224       \n",
      "_________________________________________________________________\n",
      "dropout_11 (Dropout)         (None, 32)                0         \n",
      "_________________________________________________________________\n",
      "dense_13 (Dense)             (None, 16)                528       \n",
      "_________________________________________________________________\n",
      "dropout_12 (Dropout)         (None, 16)                0         \n",
      "_________________________________________________________________\n",
      "dense_14 (Dense)             (None, 1)                 17        \n",
      "_________________________________________________________________\n",
      "dropout_13 (Dropout)         (None, 1)                 0         \n",
      "_________________________________________________________________\n",
      "dense_15 (Dense)             (None, 16)                32        \n",
      "_________________________________________________________________\n",
      "dropout_14 (Dropout)         (None, 16)                0         \n",
      "_________________________________________________________________\n",
      "dense_16 (Dense)             (None, 32)                544       \n",
      "_________________________________________________________________\n",
      "dropout_15 (Dropout)         (None, 32)                0         \n",
      "_________________________________________________________________\n",
      "dense_17 (Dense)             (None, 6)                 198       \n",
      "=================================================================\n",
      "Total params: 1,627\n",
      "Trainable params: 1,627\n",
      "Non-trainable params: 0\n",
      "_________________________________________________________________\n",
      "None\n",
      "Epoch 1/20\n",
      "4/4 [==============================] - 0s 27ms/step - loss: 1.8370 - val_loss: 1.5946\n",
      "Epoch 2/20\n",
      "4/4 [==============================] - 0s 3ms/step - loss: 1.8005 - val_loss: 1.5724\n",
      "Epoch 3/20\n",
      "4/4 [==============================] - 0s 3ms/step - loss: 1.7821 - val_loss: 1.5525\n",
      "Epoch 4/20\n",
      "4/4 [==============================] - 0s 3ms/step - loss: 1.7554 - val_loss: 1.5342\n",
      "Epoch 5/20\n",
      "4/4 [==============================] - 0s 3ms/step - loss: 1.7433 - val_loss: 1.5175\n",
      "Epoch 6/20\n",
      "4/4 [==============================] - 0s 3ms/step - loss: 1.7002 - val_loss: 1.5020\n",
      "Epoch 7/20\n",
      "4/4 [==============================] - 0s 3ms/step - loss: 1.6870 - val_loss: 1.4879\n",
      "Epoch 8/20\n",
      "4/4 [==============================] - 0s 3ms/step - loss: 1.6727 - val_loss: 1.4748\n",
      "Epoch 9/20\n",
      "4/4 [==============================] - 0s 3ms/step - loss: 1.6628 - val_loss: 1.4622\n",
      "Epoch 10/20\n",
      "4/4 [==============================] - 0s 3ms/step - loss: 1.6370 - val_loss: 1.4501\n",
      "Epoch 11/20\n",
      "4/4 [==============================] - 0s 3ms/step - loss: 1.6307 - val_loss: 1.4386\n",
      "Epoch 12/20\n",
      "4/4 [==============================] - 0s 3ms/step - loss: 1.6082 - val_loss: 1.4274\n",
      "Epoch 13/20\n",
      "4/4 [==============================] - 0s 3ms/step - loss: 1.5972 - val_loss: 1.4166\n",
      "Epoch 14/20\n",
      "4/4 [==============================] - 0s 3ms/step - loss: 1.5884 - val_loss: 1.4062\n",
      "Epoch 15/20\n",
      "4/4 [==============================] - 0s 3ms/step - loss: 1.5814 - val_loss: 1.3960\n",
      "Epoch 16/20\n",
      "4/4 [==============================] - 0s 3ms/step - loss: 1.5659 - val_loss: 1.3860\n",
      "Epoch 17/20\n",
      "4/4 [==============================] - 0s 3ms/step - loss: 1.5532 - val_loss: 1.3763\n",
      "Epoch 18/20\n",
      "4/4 [==============================] - 0s 4ms/step - loss: 1.5404 - val_loss: 1.3669\n",
      "Epoch 19/20\n",
      "4/4 [==============================] - 0s 3ms/step - loss: 1.5256 - val_loss: 1.3578\n",
      "Epoch 20/20\n",
      "4/4 [==============================] - 0s 3ms/step - loss: 1.5199 - val_loss: 1.3488\n",
      "265.38178610801697\n"
     ]
    },
    {
     "data": {
      "text/plain": [
       "{'batch_size': 64,\n",
       " 'epochs': 20,\n",
       " 'hidden_activation': 'relu',\n",
       " 'hidden_neurons': [32, 16, 1, 16, 32]}"
      ]
     },
     "execution_count": 5,
     "metadata": {},
     "output_type": "execute_result"
    }
   ],
   "source": [
    "from sklearn.model_selection import GridSearchCV\n",
    "start=time.time()\n",
    "model = pyod.models.auto_encoder.AutoEncoder()\n",
    "# define search space\n",
    "space = dict([('hidden_neurons',[[64,32,16,1,16,32,64],[32,16,1,16,32],[4,1,4]]),\n",
    "             ('epochs',[20,50,100]),\n",
    "             ('hidden_activation',['relu','tanh']),\n",
    "             ('batch_size',[32,64,128])]\n",
    ")\n",
    "cv = RepeatedStratifiedKFold(n_splits=10, n_repeats=3, random_state=1)\n",
    "# define search\n",
    "search = GridSearchCV(model, space, scoring='accuracy',n_jobs=-1,cv=cv)\n",
    "result_2 = search.fit(Vertebral,label)\n",
    "print(time.time()-start)\n",
    "result_2.best_params_"
   ]
  },
  {
   "cell_type": "markdown",
   "metadata": {},
   "source": [
    "### Hyperparameter tuning in Isolation Forest"
   ]
  },
  {
   "cell_type": "markdown",
   "metadata": {},
   "source": [
    "##### Mulcross dataset\n"
   ]
  },
  {
   "cell_type": "code",
   "execution_count": 6,
   "metadata": {},
   "outputs": [],
   "source": [
    "mulcross=pd.read_csv(r\"C:\\Users\\Manolis\\thesis\\thesis\\Datasets\\Mulcross1.csv\")\n",
    "label=mulcross.Target\n",
    "mulcross=mulcross.iloc[:,0:4]"
   ]
  },
  {
   "cell_type": "code",
   "execution_count": 7,
   "metadata": {},
   "outputs": [
    {
     "name": "stdout",
     "output_type": "stream",
     "text": [
      "247.76028037071228\n"
     ]
    },
    {
     "data": {
      "text/plain": [
       "{'n_estimators': 50}"
      ]
     },
     "execution_count": 7,
     "metadata": {},
     "output_type": "execute_result"
    }
   ],
   "source": [
    "from sklearn.model_selection import GridSearchCV\n",
    "start=time.time()\n",
    "model = IsolationForest()\n",
    "# define search space\n",
    "space = dict([('n_estimators',[50,100,200,400])])\n",
    "cv = RepeatedStratifiedKFold(n_splits=10, n_repeats=10, random_state=1)\n",
    "# define search\n",
    "search = GridSearchCV(model, space, scoring='accuracy',n_jobs=-1,cv=cv)\n",
    "result_3 = search.fit(mulcross,label)\n",
    "print(time.time()-start)\n",
    "result_3.best_params_"
   ]
  },
  {
   "cell_type": "markdown",
   "metadata": {},
   "source": [
    "##### Vertebral dataset"
   ]
  },
  {
   "cell_type": "code",
   "execution_count": 8,
   "metadata": {},
   "outputs": [],
   "source": [
    "matfile = scipy.io.loadmat(r\"C:\\Users\\Manolis\\thesis\\thesis\\Datasets\\vertebral.mat\")\n",
    "tuples=matfile[\"X\"]\n",
    "label=matfile[\"y\"]\n",
    "Vertebral=pd.DataFrame(columns=['pelvic incidence', 'pelvic tilt', 'lumbar lordosis angle', 'sacral slope', 'pelvic radius',' grade of spondylolisthesis'])\n",
    "for i in range(len(tuples)):\n",
    "    Vertebral.loc[len(Vertebral)] = tuples[i]\n",
    "Vertebral_label=Vertebral.copy()\n",
    "Vertebral_label['label']=label "
   ]
  },
  {
   "cell_type": "code",
   "execution_count": 9,
   "metadata": {},
   "outputs": [
    {
     "name": "stdout",
     "output_type": "stream",
     "text": [
      "Fitting 100 folds for each of 4 candidates, totalling 400 fits\n"
     ]
    },
    {
     "name": "stderr",
     "output_type": "stream",
     "text": [
      "[Parallel(n_jobs=-1)]: Using backend LokyBackend with 24 concurrent workers.\n",
      "[Parallel(n_jobs=-1)]: Done 180 tasks      | elapsed:    1.0s\n",
      "[Parallel(n_jobs=-1)]: Done 400 out of 400 | elapsed:    5.7s finished\n"
     ]
    },
    {
     "name": "stdout",
     "output_type": "stream",
     "text": [
      "6.148597717285156\n"
     ]
    },
    {
     "data": {
      "text/plain": [
       "{'n_estimators': 400}"
      ]
     },
     "execution_count": 9,
     "metadata": {},
     "output_type": "execute_result"
    }
   ],
   "source": [
    "from sklearn.model_selection import GridSearchCV\n",
    "start=time.time()\n",
    "model = IsolationForest()\n",
    "# define search space\n",
    "space = dict([('n_estimators',[50,100,200,400])])\n",
    "cv = RepeatedStratifiedKFold(n_splits=10, n_repeats=10, random_state=1)\n",
    "# define search\n",
    "search = GridSearchCV(model, space, scoring='accuracy',n_jobs=-1,cv=cv,verbose=2)\n",
    "result_4 = search.fit(Vertebral,label)\n",
    "print(time.time()-start)\n",
    "result_4.best_params_"
   ]
  },
  {
   "cell_type": "code",
   "execution_count": 11,
   "metadata": {},
   "outputs": [
    {
     "data": {
      "text/plain": [
       "({'batch_size': 32,\n",
       "  'epochs': 100,\n",
       "  'hidden_activation': 'relu',\n",
       "  'hidden_neurons': [64, 32, 16, 1, 16, 32, 64]},\n",
       " {'batch_size': 64,\n",
       "  'epochs': 20,\n",
       "  'hidden_activation': 'relu',\n",
       "  'hidden_neurons': [32, 16, 1, 16, 32]},\n",
       " {'n_estimators': 50},\n",
       " {'n_estimators': 400})"
      ]
     },
     "execution_count": 11,
     "metadata": {},
     "output_type": "execute_result"
    }
   ],
   "source": [
    "result.best_params_, result_2.best_params_, result_3.best_params_, result_4.best_params_"
   ]
  }
 ],
 "metadata": {
  "kernelspec": {
   "display_name": "Python 3",
   "language": "python",
   "name": "python3"
  },
  "language_info": {
   "codemirror_mode": {
    "name": "ipython",
    "version": 3
   },
   "file_extension": ".py",
   "mimetype": "text/x-python",
   "name": "python",
   "nbconvert_exporter": "python",
   "pygments_lexer": "ipython3",
   "version": "3.8.5"
  }
 },
 "nbformat": 4,
 "nbformat_minor": 5
}
