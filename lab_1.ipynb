{
 "cells": [
  {
   "cell_type": "markdown",
   "id": "iYwJ4OT3sZxi",
   "metadata": {
    "id": "iYwJ4OT3sZxi"
   },
   "source": [
    "# Lab assignment 1: Image recognition using deep networks\n",
    "\n",
    "Ignasi Oliveres, Ourania Koutsoukou, Oriol Pomarol, Emmanouil Iliakis\n",
    "\n"
   ]
  },
  {
   "cell_type": "markdown",
   "id": "SxGNs103Xvxk",
   "metadata": {
    "id": "SxGNs103Xvxk"
   },
   "source": [
    "## Exercise one: Identifying handwritten numbers"
   ]
  },
  {
   "cell_type": "markdown",
   "id": "Z-B1B2Hqb_pz",
   "metadata": {
    "id": "Z-B1B2Hqb_pz"
   },
   "source": [
    "### Question 1 (3 points)\n",
    "*Discuss with your group, then describe to your teacher, a list of applications where automatic recognition of hand-written numbers would be useful.*"
   ]
  },
  {
   "cell_type": "markdown",
   "id": "TQ9kFyUlgICL",
   "metadata": {
    "id": "TQ9kFyUlgICL"
   },
   "source": [
    "\n",
    "*   Processing of physical surveys where the answer is a number\n",
    "\n",
    "*   Scanning prices of items in a market\n",
    "\n",
    "*   Digitalizing phone numbers from a telephone book\n",
    "\n",
    "**OTHERS**!!"
   ]
  },
  {
   "cell_type": "code",
   "execution_count": null,
   "id": "5af7e85a",
   "metadata": {
    "id": "5af7e85a"
   },
   "outputs": [],
   "source": [
    "from tensorflow import keras\n",
    "import numpy as np\n",
    "import matplotlib.pyplot as plt\n",
    "from tensorflow.keras.datasets import mnist"
   ]
  },
  {
   "cell_type": "markdown",
   "id": "vaYn4nuTYwUG",
   "metadata": {
    "id": "vaYn4nuTYwUG"
   },
   "source": [
    "First, download MNIST and store both train and test tuples."
   ]
  },
  {
   "cell_type": "code",
   "execution_count": null,
   "id": "b54f1121",
   "metadata": {
    "colab": {
     "base_uri": "https://localhost:8080/"
    },
    "executionInfo": {
     "elapsed": 833,
     "status": "ok",
     "timestamp": 1645440408947,
     "user": {
      "displayName": "Rania Koutsoukou",
      "photoUrl": "https://lh3.googleusercontent.com/a/default-user=s64",
      "userId": "13018210882651396961"
     },
     "user_tz": -60
    },
    "id": "b54f1121",
    "outputId": "63f4947a-0d1c-4e2a-d420-8fe9e910579a"
   },
   "outputs": [
    {
     "name": "stdout",
     "output_type": "stream",
     "text": [
      "Downloading data from https://storage.googleapis.com/tensorflow/tf-keras-datasets/mnist.npz\n",
      "11493376/11490434 [==============================] - 0s 0us/step\n",
      "11501568/11490434 [==============================] - 0s 0us/step\n"
     ]
    }
   ],
   "source": [
    "(x_train, y_train), (x_test, y_test) = keras.datasets.mnist.load_data()"
   ]
  },
  {
   "cell_type": "code",
   "execution_count": null,
   "id": "9b59eb7d",
   "metadata": {
    "colab": {
     "base_uri": "https://localhost:8080/",
     "height": 268
    },
    "executionInfo": {
     "elapsed": 2751,
     "status": "ok",
     "timestamp": 1645440411695,
     "user": {
      "displayName": "Rania Koutsoukou",
      "photoUrl": "https://lh3.googleusercontent.com/a/default-user=s64",
      "userId": "13018210882651396961"
     },
     "user_tz": -60
    },
    "id": "9b59eb7d",
    "outputId": "38cbf50f-3955-426c-8101-093276ac0100"
   },
   "outputs": [
    {
     "data": {
      "image/png": "[encoded data removed]",
      "text/plain": [
       "<Figure size 432x288 with 9 Axes>"
      ]
     },
     "metadata": {
      "needs_background": "light"
     },
     "output_type": "display_data"
    }
   ],
   "source": [
    "for i in range(9):\n",
    "\t# define subplot\n",
    "\tplt.subplot(330 + 1 + i)\n",
    "\t# plot raw pixel data\n",
    "\tplt.imshow(x_train[i], cmap=plt.get_cmap('gray'))\n",
    "# show the figure\n",
    "plt.show()"
   ]
  },
  {
   "cell_type": "markdown",
   "id": "A6hJJRHnY6fy",
   "metadata": {
    "id": "A6hJJRHnY6fy"
   },
   "source": [
    "**Data preparation**\n",
    "\n",
    "Use the function numpy.reshape to convert the flatten training and test set images from 28x28 pixels to a column of 784 pixels for each image (row). Save the results as new variables called x_train and x_test to avoid overwriting the original images. These should have dimensions 60000x784 and 10000x784 respectively (use the call .shape on the variables to check this)."
   ]
  },
  {
   "cell_type": "code",
   "execution_count": null,
   "id": "fe5d55b1",
   "metadata": {
    "colab": {
     "base_uri": "https://localhost:8080/"
    },
    "executionInfo": {
     "elapsed": 4,
     "status": "ok",
     "timestamp": 1645440411695,
     "user": {
      "displayName": "Rania Koutsoukou",
      "photoUrl": "https://lh3.googleusercontent.com/a/default-user=s64",
      "userId": "13018210882651396961"
     },
     "user_tz": -60
    },
    "id": "fe5d55b1",
    "outputId": "5c7d0444-41ae-4509-d011-4fcd0fb2357e"
   },
   "outputs": [
    {
     "name": "stdout",
     "output_type": "stream",
     "text": [
      "(60000, 784) (10000, 784)\n"
     ]
    }
   ],
   "source": [
    "x_train=np.reshape(x_train,(60000,784))\n",
    "x_test=np.reshape(x_test,(10000,784))\n",
    "print(x_train.shape, x_test.shape)"
   ]
  },
  {
   "cell_type": "markdown",
   "id": "MTlKgM6-aPtT",
   "metadata": {
    "id": "MTlKgM6-aPtT"
   },
   "source": [
    "Now rescale x_train and x_test to values between zero and one by dividing each\n",
    "variable by 255."
   ]
  },
  {
   "cell_type": "code",
   "execution_count": null,
   "id": "862d0ee0",
   "metadata": {
    "id": "862d0ee0"
   },
   "outputs": [],
   "source": [
    "x_train=x_train/255\n",
    "x_test=x_test/255"
   ]
  },
  {
   "cell_type": "markdown",
   "id": "TapqmR_kaTlR",
   "metadata": {
    "id": "TapqmR_kaTlR"
   },
   "source": [
    "Use the function keras.utils.to_categorical(var, 10) to convert the train and\n",
    "testset labels to two new variables, called y_train and y_test."
   ]
  },
  {
   "cell_type": "code",
   "execution_count": null,
   "id": "c58d0e8e",
   "metadata": {
    "id": "c58d0e8e"
   },
   "outputs": [],
   "source": [
    "y_train= keras.utils.to_categorical(y_train, 10)\n",
    "y_test= keras.utils.to_categorical(y_test, 10)"
   ]
  },
  {
   "cell_type": "markdown",
   "id": "4204f49b",
   "metadata": {
    "id": "4204f49b"
   },
   "source": [
    "**Model definition**\n",
    "\n",
    "To make the MLP model, enter the following code.\n"
   ]
  },
  {
   "cell_type": "code",
   "execution_count": null,
   "id": "50f3c2de",
   "metadata": {
    "id": "50f3c2de"
   },
   "outputs": [],
   "source": [
    "model = keras.Sequential()\n",
    "model.add(keras.layers.Dense(256, input_shape=(784,)))\n",
    "model.add(keras.layers.Dense(10, activation='softmax'))"
   ]
  },
  {
   "cell_type": "markdown",
   "id": "JBraLc-DbEOD",
   "metadata": {
    "id": "JBraLc-DbEOD"
   },
   "source": [
    "To check the resulting model is what you expect, use:"
   ]
  },
  {
   "cell_type": "code",
   "execution_count": null,
   "id": "3974dac1",
   "metadata": {
    "colab": {
     "base_uri": "https://localhost:8080/"
    },
    "executionInfo": {
     "elapsed": 13,
     "status": "ok",
     "timestamp": 1645440416573,
     "user": {
      "displayName": "Rania Koutsoukou",
      "photoUrl": "https://lh3.googleusercontent.com/a/default-user=s64",
      "userId": "13018210882651396961"
     },
     "user_tz": -60
    },
    "id": "3974dac1",
    "outputId": "b0cdfe80-e5ce-4608-a88c-6a82fcb488ad"
   },
   "outputs": [
    {
     "name": "stdout",
     "output_type": "stream",
     "text": [
      "Model: \"sequential\"\n",
      "_________________________________________________________________\n",
      " Layer (type)                Output Shape              Param #   \n",
      "=================================================================\n",
      " dense (Dense)               (None, 256)               200960    \n",
      "                                                                 \n",
      " dense_1 (Dense)             (None, 10)                2570      \n",
      "                                                                 \n",
      "=================================================================\n",
      "Total params: 203,530\n",
      "Trainable params: 203,530\n",
      "Non-trainable params: 0\n",
      "_________________________________________________________________\n"
     ]
    }
   ],
   "source": [
    "model.summary()\n"
   ]
  },
  {
   "cell_type": "markdown",
   "id": "GuSXdXb3bJIX",
   "metadata": {
    "id": "GuSXdXb3bJIX"
   },
   "source": [
    "Compile the model with suitable loss functions, optimisation\n",
    "procedures, and performance measures, as follows:"
   ]
  },
  {
   "cell_type": "code",
   "execution_count": null,
   "id": "6ab7972c",
   "metadata": {
    "id": "6ab7972c"
   },
   "outputs": [],
   "source": [
    "model.compile(loss='categorical_crossentropy', \n",
    "optimizer=keras.optimizers.RMSprop(), metrics='accuracy')"
   ]
  },
  {
   "cell_type": "markdown",
   "id": "MavW8xKtbNQP",
   "metadata": {
    "id": "MavW8xKtbNQP"
   },
   "source": [
    "**Training and evaluation**\n",
    "\n",
    "### Question 2 (5 points)\n",
    "*Show your teacher the text from your console, with how long it took for each epoch to run and the training performance history.*"
   ]
  },
  {
   "cell_type": "code",
   "execution_count": null,
   "id": "b6487fd7",
   "metadata": {
    "colab": {
     "base_uri": "https://localhost:8080/"
    },
    "executionInfo": {
     "elapsed": 24279,
     "status": "ok",
     "timestamp": 1645440441150,
     "user": {
      "displayName": "Rania Koutsoukou",
      "photoUrl": "https://lh3.googleusercontent.com/a/default-user=s64",
      "userId": "13018210882651396961"
     },
     "user_tz": -60
    },
    "id": "b6487fd7",
    "outputId": "9a66bd93-13d2-4f4c-e61e-df925ddd86bb"
   },
   "outputs": [
    {
     "name": "stdout",
     "output_type": "stream",
     "text": [
      "Epoch 1/12\n",
      "375/375 [==============================] - 5s 5ms/step - loss: 0.3955 - accuracy: 0.8867 - val_loss: 0.2958 - val_accuracy: 0.9150\n",
      "Epoch 2/12\n",
      "375/375 [==============================] - 2s 5ms/step - loss: 0.3089 - accuracy: 0.9128 - val_loss: 0.2749 - val_accuracy: 0.9257\n",
      "Epoch 3/12\n",
      "375/375 [==============================] - 2s 4ms/step - loss: 0.2937 - accuracy: 0.9182 - val_loss: 0.2909 - val_accuracy: 0.9208\n",
      "Epoch 4/12\n",
      "375/375 [==============================] - 2s 4ms/step - loss: 0.2870 - accuracy: 0.9202 - val_loss: 0.2793 - val_accuracy: 0.9247\n",
      "Epoch 5/12\n",
      "375/375 [==============================] - 2s 4ms/step - loss: 0.2811 - accuracy: 0.9215 - val_loss: 0.2827 - val_accuracy: 0.9231\n",
      "Epoch 6/12\n",
      "375/375 [==============================] - 2s 5ms/step - loss: 0.2783 - accuracy: 0.9212 - val_loss: 0.2728 - val_accuracy: 0.9237\n",
      "Epoch 7/12\n",
      "375/375 [==============================] - 2s 5ms/step - loss: 0.2738 - accuracy: 0.9245 - val_loss: 0.2822 - val_accuracy: 0.9253\n",
      "Epoch 8/12\n",
      "375/375 [==============================] - 2s 5ms/step - loss: 0.2718 - accuracy: 0.9236 - val_loss: 0.2719 - val_accuracy: 0.9267\n",
      "Epoch 9/12\n",
      "375/375 [==============================] - 2s 5ms/step - loss: 0.2696 - accuracy: 0.9239 - val_loss: 0.2836 - val_accuracy: 0.9231\n",
      "Epoch 10/12\n",
      "375/375 [==============================] - 2s 5ms/step - loss: 0.2669 - accuracy: 0.9248 - val_loss: 0.2785 - val_accuracy: 0.9236\n",
      "Epoch 11/12\n",
      "375/375 [==============================] - 2s 5ms/step - loss: 0.2655 - accuracy: 0.9250 - val_loss: 0.2753 - val_accuracy: 0.9238\n",
      "Epoch 12/12\n",
      "375/375 [==============================] - 2s 5ms/step - loss: 0.2639 - accuracy: 0.9263 - val_loss: 0.2738 - val_accuracy: 0.9267\n"
     ]
    }
   ],
   "source": [
    "history = model.fit(x_train, y_train, batch_size=128, \n",
    "epochs=12, verbose=1, validation_split=0.2)"
   ]
  },
  {
   "cell_type": "markdown",
   "id": "ea21bb0e",
   "metadata": {
    "id": "ea21bb0e"
   },
   "source": [
    "### Question 3 (3 points)\n",
    "*Plot the training history and show this to your teacher.*"
   ]
  },
  {
   "cell_type": "code",
   "execution_count": null,
   "id": "0c01933f",
   "metadata": {
    "colab": {
     "base_uri": "https://localhost:8080/"
    },
    "executionInfo": {
     "elapsed": 13,
     "status": "ok",
     "timestamp": 1645440441151,
     "user": {
      "displayName": "Rania Koutsoukou",
      "photoUrl": "https://lh3.googleusercontent.com/a/default-user=s64",
      "userId": "13018210882651396961"
     },
     "user_tz": -60
    },
    "id": "0c01933f",
    "outputId": "8b76e74a-15f8-4653-8126-535484d1ae5a"
   },
   "outputs": [
    {
     "name": "stdout",
     "output_type": "stream",
     "text": [
      "dict_keys(['loss', 'accuracy', 'val_loss', 'val_accuracy'])\n"
     ]
    },
    {
     "data": {
      "text/plain": [
       "['accuracy', 'loss', 'val_accuracy', 'val_loss']"
      ]
     },
     "execution_count": 11,
     "metadata": {},
     "output_type": "execute_result"
    }
   ],
   "source": [
    "print(history.history.keys())\n",
    "['accuracy', 'loss', 'val_accuracy', 'val_loss']"
   ]
  },
  {
   "cell_type": "code",
   "execution_count": null,
   "id": "5d1bd7b2",
   "metadata": {
    "colab": {
     "base_uri": "https://localhost:8080/",
     "height": 295
    },
    "executionInfo": {
     "elapsed": 322,
     "status": "ok",
     "timestamp": 1645440441463,
     "user": {
      "displayName": "Rania Koutsoukou",
      "photoUrl": "https://lh3.googleusercontent.com/a/default-user=s64",
      "userId": "13018210882651396961"
     },
     "user_tz": -60
    },
    "id": "5d1bd7b2",
    "outputId": "cec4f234-6ad2-4915-c52a-5d0b85a7c97c"
   },
   "outputs": [
    {
     "data": {
      "image/png": "[encoded data removed]",
      "text/plain": [
       "<Figure size 432x288 with 1 Axes>"
      ]
     },
     "metadata": {
      "needs_background": "light"
     },
     "output_type": "display_data"
    }
   ],
   "source": [
    "plt.plot(history.history['accuracy'])\n",
    "plt.plot(history.history['val_accuracy'])\n",
    "plt.title('model accuracy')\n",
    "plt.ylabel('accuracy')\n",
    "plt.xlabel('epoch')\n",
    "plt.legend(['train', 'test'], loc='upper left')\n",
    "plt.show()"
   ]
  },
  {
   "cell_type": "code",
   "execution_count": null,
   "id": "cd9c43a6",
   "metadata": {
    "colab": {
     "base_uri": "https://localhost:8080/",
     "height": 295
    },
    "executionInfo": {
     "elapsed": 298,
     "status": "ok",
     "timestamp": 1645440441759,
     "user": {
      "displayName": "Rania Koutsoukou",
      "photoUrl": "https://lh3.googleusercontent.com/a/default-user=s64",
      "userId": "13018210882651396961"
     },
     "user_tz": -60
    },
    "id": "cd9c43a6",
    "outputId": "39816a5c-9f00-450a-cbaa-38ab6316f312"
   },
   "outputs": [
    {
     "data": {
      "image/png": "[encoded data removed]",
      "text/plain": [
       "<Figure size 432x288 with 1 Axes>"
      ]
     },
     "metadata": {
      "needs_background": "light"
     },
     "output_type": "display_data"
    }
   ],
   "source": [
    "plt.plot(history.history['loss'])\n",
    "plt.plot(history.history['val_loss'])\n",
    "plt.title('model loss')\n",
    "plt.ylabel('loss')\n",
    "plt.xlabel('epoch')\n",
    "plt.legend(['train', 'test'], loc='upper left')\n",
    "plt.show()"
   ]
  },
  {
   "cell_type": "markdown",
   "id": "d31d677e",
   "metadata": {
    "id": "d31d677e"
   },
   "source": [
    "### Question 4 (5 points)\n",
    "*Discuss with your group, then describe to your teacher, how the accuracy on the training and validation sets progress differently across epochs, and what this tells us about the generalisation of the model.*"
   ]
  },
  {
   "cell_type": "markdown",
   "id": "eU6gckUdgMky",
   "metadata": {
    "id": "eU6gckUdgMky"
   },
   "source": [
    "In the first plot from the previous exercise, the accuraccy converges at 92% in the 5th epoch and after that there are slight fluctuations around this number. Therefore, the model does not overfit as the accuracy for both sets tends to the same value. This also indicates that the model will have a good generalization.\n",
    "\n",
    "However, the model loss in the validation does not dicrease as much as the training set. Even though this might indicate a slight overfit, this happened only in this case and the other members of the group got non-overfitign results. Consequently, we attribute this behaviour to the randomness in the algorithm training."
   ]
  },
  {
   "cell_type": "markdown",
   "id": "9e661afa",
   "metadata": {
    "id": "9e661afa"
   },
   "source": [
    "### Question 5 (2 points)\n",
    "*Show your teacher what values you get for the model’s accuracy and loss.*"
   ]
  },
  {
   "cell_type": "code",
   "execution_count": null,
   "id": "6a9546f6",
   "metadata": {
    "colab": {
     "base_uri": "https://localhost:8080/"
    },
    "executionInfo": {
     "elapsed": 852,
     "status": "ok",
     "timestamp": 1645440442608,
     "user": {
      "displayName": "Rania Koutsoukou",
      "photoUrl": "https://lh3.googleusercontent.com/a/default-user=s64",
      "userId": "13018210882651396961"
     },
     "user_tz": -60
    },
    "id": "6a9546f6",
    "outputId": "b2ae6596-3a04-41e8-97b2-2d9fc074a022"
   },
   "outputs": [
    {
     "data": {
      "text/plain": [
       "(0.2771688401699066, 0.925000011920929)"
      ]
     },
     "execution_count": 14,
     "metadata": {},
     "output_type": "execute_result"
    }
   ],
   "source": [
    "loss, accuracy = model.evaluate(x_test, y_test, verbose=0)\n",
    "loss, accuracy"
   ]
  },
  {
   "cell_type": "markdown",
   "id": "4619f94c",
   "metadata": {
    "id": "4619f94c"
   },
   "source": [
    "### Question 6 (5 points)\n",
    "*Discuss with your group, then describe to your teacher, whether this accuracy is sufficient for some uses of automatic hand-written digit classification.*\n",
    "\n",
    "\n"
   ]
  },
  {
   "cell_type": "markdown",
   "id": "c6aa5fdb",
   "metadata": {
    "id": "c6aa5fdb"
   },
   "source": [
    "The accuracy is quite good (above 0.9) but the algorithm still missclassifies too much for certain delicate applications. \n",
    "\n",
    "It would suffice if the outcome of having an error in one number is not catastrophic, for example as an automated way to find the postal code for post purposes. If mistakes occur, the problem that arises is not that important as it can be fixed by manual assessment. However, using this algorith for reading cheque numbers could potentially be problematic. A wrong amount of money can be accidentally deposited or even the bank number could be changed and the correction this kind of mistakes is more complex."
   ]
  },
  {
   "cell_type": "markdown",
   "id": "349d0c03",
   "metadata": {
    "id": "349d0c03"
   },
   "source": [
    "### Question 7 (5 points)\n",
    "*Discuss with your group, then describe to your teacher, how linear activation of units limits the possible computations this model can perform.*"
   ]
  },
  {
   "cell_type": "markdown",
   "id": "oT0CazFbi6jB",
   "metadata": {
    "id": "oT0CazFbi6jB"
   },
   "source": [
    "Having a non-linear activation function allows the model to learn more complex functions than a network trained using a linear activation function. A combination of linear functions will still output a linear function independently of the number of layers of the model. This is likely to provide biased results when the true vlues follow non-linear functions. On the other hand, non-linear activation functions allow the model to adapt to more diverse behaviours."
   ]
  },
  {
   "cell_type": "markdown",
   "id": "OMVrtFzLkEiJ",
   "metadata": {
    "id": "OMVrtFzLkEiJ"
   },
   "source": [
    "**Changing model parameters**\n",
    "\n",
    "Now make a similar model with a rectified activation in the first hidden layer, by adding the extra argument:\n",
    "`activation = “relu”`\n",
    "to the model definition for this layer. Then compile, fit and evaluate the model."
   ]
  },
  {
   "cell_type": "code",
   "execution_count": null,
   "id": "835128b5",
   "metadata": {
    "id": "835128b5"
   },
   "outputs": [],
   "source": [
    "model = keras.Sequential()\n",
    "model.add(keras.layers.Dense(256, input_shape=(784,),activation='relu'))\n",
    "model.add(keras.layers.Dense(10,activation='softmax'))\n"
   ]
  },
  {
   "cell_type": "code",
   "execution_count": null,
   "id": "e5d0f5a7",
   "metadata": {
    "colab": {
     "base_uri": "https://localhost:8080/"
    },
    "executionInfo": {
     "elapsed": 22739,
     "status": "ok",
     "timestamp": 1645440465346,
     "user": {
      "displayName": "Rania Koutsoukou",
      "photoUrl": "https://lh3.googleusercontent.com/a/default-user=s64",
      "userId": "13018210882651396961"
     },
     "user_tz": -60
    },
    "id": "e5d0f5a7",
    "outputId": "e92a40c6-9f44-494e-d982-2eefa8bb2e52"
   },
   "outputs": [
    {
     "name": "stdout",
     "output_type": "stream",
     "text": [
      "Epoch 1/12\n",
      "375/375 [==============================] - 3s 6ms/step - loss: 0.3166 - accuracy: 0.9110 - val_loss: 0.1766 - val_accuracy: 0.9517\n",
      "Epoch 2/12\n",
      "375/375 [==============================] - 2s 5ms/step - loss: 0.1421 - accuracy: 0.9593 - val_loss: 0.1314 - val_accuracy: 0.9631\n",
      "Epoch 3/12\n",
      "375/375 [==============================] - 2s 5ms/step - loss: 0.0973 - accuracy: 0.9723 - val_loss: 0.0997 - val_accuracy: 0.9713\n",
      "Epoch 4/12\n",
      "375/375 [==============================] - 2s 5ms/step - loss: 0.0720 - accuracy: 0.9789 - val_loss: 0.0916 - val_accuracy: 0.9731\n",
      "Epoch 5/12\n",
      "375/375 [==============================] - 2s 5ms/step - loss: 0.0558 - accuracy: 0.9838 - val_loss: 0.0902 - val_accuracy: 0.9737\n",
      "Epoch 6/12\n",
      "375/375 [==============================] - 2s 5ms/step - loss: 0.0452 - accuracy: 0.9868 - val_loss: 0.0867 - val_accuracy: 0.9748\n",
      "Epoch 7/12\n",
      "375/375 [==============================] - 2s 5ms/step - loss: 0.0358 - accuracy: 0.9897 - val_loss: 0.0901 - val_accuracy: 0.9737\n",
      "Epoch 8/12\n",
      "375/375 [==============================] - 2s 5ms/step - loss: 0.0290 - accuracy: 0.9918 - val_loss: 0.0845 - val_accuracy: 0.9770\n",
      "Epoch 9/12\n",
      "375/375 [==============================] - 2s 5ms/step - loss: 0.0230 - accuracy: 0.9935 - val_loss: 0.0800 - val_accuracy: 0.9787\n",
      "Epoch 10/12\n",
      "375/375 [==============================] - 2s 5ms/step - loss: 0.0199 - accuracy: 0.9944 - val_loss: 0.0824 - val_accuracy: 0.9795\n",
      "Epoch 11/12\n",
      "375/375 [==============================] - 2s 5ms/step - loss: 0.0149 - accuracy: 0.9962 - val_loss: 0.0839 - val_accuracy: 0.9786\n",
      "Epoch 12/12\n",
      "375/375 [==============================] - 2s 5ms/step - loss: 0.0123 - accuracy: 0.9969 - val_loss: 0.0850 - val_accuracy: 0.9784\n"
     ]
    }
   ],
   "source": [
    "model.compile(loss='categorical_crossentropy', \n",
    "optimizer=keras.optimizers.RMSprop(), metrics='accuracy')\n",
    "history = model.fit(x_train, y_train, batch_size=128, \n",
    "epochs=12, verbose=1, validation_split=0.2)"
   ]
  },
  {
   "cell_type": "markdown",
   "id": "LX871_3yk4UD",
   "metadata": {
    "id": "LX871_3yk4UD"
   },
   "source": [
    "### Question 8 (2 points)\n",
    "*Plot the training history and show it to your teacher.*"
   ]
  },
  {
   "cell_type": "code",
   "execution_count": null,
   "id": "6b246d16",
   "metadata": {
    "colab": {
     "base_uri": "https://localhost:8080/",
     "height": 573
    },
    "executionInfo": {
     "elapsed": 512,
     "status": "ok",
     "timestamp": 1645440465850,
     "user": {
      "displayName": "Rania Koutsoukou",
      "photoUrl": "https://lh3.googleusercontent.com/a/default-user=s64",
      "userId": "13018210882651396961"
     },
     "user_tz": -60
    },
    "id": "6b246d16",
    "outputId": "f5014b54-0a9d-4ca1-9d66-075531f9b2b2"
   },
   "outputs": [
    {
     "data": {
      "image/png": "[encoded data removed]",
      "text/plain": [
       "<Figure size 432x288 with 1 Axes>"
      ]
     },
     "metadata": {
      "needs_background": "light"
     },
     "output_type": "display_data"
    },
    {
     "data": {
      "image/png": "[encoded data removed]",
      "text/plain": [
       "<Figure size 432x288 with 1 Axes>"
      ]
     },
     "metadata": {
      "needs_background": "light"
     },
     "output_type": "display_data"
    }
   ],
   "source": [
    "plt.plot(history.history['accuracy'])\n",
    "plt.plot(history.history['val_accuracy'])\n",
    "plt.title('model accuracy')\n",
    "plt.ylabel('accuracy')\n",
    "plt.xlabel('epoch')\n",
    "plt.legend(['train', 'test'], loc='upper left')\n",
    "plt.show()\n",
    "plt.plot(history.history['loss'])\n",
    "plt.plot(history.history['val_loss'])\n",
    "plt.title('model loss')\n",
    "plt.ylabel('loss')\n",
    "plt.xlabel('epoch')\n",
    "plt.legend(['train', 'test'], loc='upper left')\n",
    "plt.show()"
   ]
  },
  {
   "cell_type": "markdown",
   "id": "lu7gnCc8kcrx",
   "metadata": {
    "id": "lu7gnCc8kcrx"
   },
   "source": [
    "### Question 9 (5 points)\n",
    "*Discuss with your group, then describe to your teacher, how this training history differs from the previous model, for the training and validation sets. Describe what this tells us about the generalisation of the model.*"
   ]
  },
  {
   "cell_type": "markdown",
   "id": "gaNjdxt9knF_",
   "metadata": {
    "id": "gaNjdxt9knF_"
   },
   "source": [
    "The training test accuracy improves much faster and reaches higher levels of accuracy. On the other hand, a difference in training and validation set appears after epoch 2, reaching 0.02 for the accuracy and around 0.10 for the loss, which is quite significant. This seems to point that the model is overfitting and is thus less generalizable.\n"
   ]
  },
  {
   "cell_type": "markdown",
   "id": "_bYlNr2_mMDx",
   "metadata": {
    "id": "_bYlNr2_mMDx"
   },
   "source": [
    "**Deep convolutional networks**\n",
    "\n",
    "Reshape x_train to size 60000, 28, 28, 1. Reshape x_test to size 10000, 28, 28, 1. Rescale both results to values between zero and one as before."
   ]
  },
  {
   "cell_type": "markdown",
   "id": "aiyirMdYybF9",
   "metadata": {
    "id": "aiyirMdYybF9"
   },
   "source": [
    "### Question 10 (2 points)\n",
    "*Plot the training history and show this to your teacher.*\n",
    "\n",
    "\n"
   ]
  },
  {
   "cell_type": "code",
   "execution_count": null,
   "id": "6f0ec470",
   "metadata": {
    "id": "6f0ec470"
   },
   "outputs": [],
   "source": [
    "(x_train, y_train), (x_test, y_test) = keras.datasets.mnist.load_data()\n",
    "x_train=np.reshape(x_train,(60000,28,28,1))\n",
    "x_test=np.reshape(x_test,(10000,28,28,1))\n",
    "x_train=x_train/255\n",
    "x_test=x_test/255\n",
    "y_train= keras.utils.to_categorical(y_train, 10)\n",
    "y_test= keras.utils.to_categorical(y_test, 10)"
   ]
  },
  {
   "cell_type": "markdown",
   "id": "BEFwVqv2xu_1",
   "metadata": {
    "id": "BEFwVqv2xu_1"
   },
   "source": [
    "Model"
   ]
  },
  {
   "cell_type": "code",
   "execution_count": null,
   "id": "918a6c6b",
   "metadata": {
    "id": "918a6c6b"
   },
   "outputs": [],
   "source": [
    "model = keras.Sequential()\n",
    "model.add(keras.layers.Conv2D(filters=32, kernel_size=(3, 3), \n",
    "activation=\"relu\", input_shape=(28, 28,1)))\n",
    "model.add(keras.layers.Conv2D(filters=64, kernel_size=(3, 3), \n",
    "activation=\"relu\"))\n",
    "model.add(keras.layers.MaxPool2D(pool_size=(2, 2)))\n",
    "model.add(keras.layers.Flatten())\n",
    "model.add(keras.layers.Dense(128, activation=\"relu\"))\n",
    "model.add(keras.layers.Dense(10, activation=\"softmax\"))\n",
    "model.compile(loss='categorical_crossentropy',optimizer=keras.optimizers.Adadelta(learning_rate=1), \n",
    "metrics='accuracy') "
   ]
  },
  {
   "cell_type": "markdown",
   "id": "_00zMx-2xzPH",
   "metadata": {
    "id": "_00zMx-2xzPH"
   },
   "source": [
    "Training the model"
   ]
  },
  {
   "cell_type": "code",
   "execution_count": null,
   "id": "Vt1vTZFtxy9p",
   "metadata": {
    "colab": {
     "base_uri": "https://localhost:8080/"
    },
    "executionInfo": {
     "elapsed": 46868,
     "status": "ok",
     "timestamp": 1645440513277,
     "user": {
      "displayName": "Rania Koutsoukou",
      "photoUrl": "https://lh3.googleusercontent.com/a/default-user=s64",
      "userId": "13018210882651396961"
     },
     "user_tz": -60
    },
    "id": "Vt1vTZFtxy9p",
    "outputId": "6d3be771-b8bc-415a-d736-2e1dd49fa080"
   },
   "outputs": [
    {
     "name": "stdout",
     "output_type": "stream",
     "text": [
      "Epoch 1/6\n",
      "375/375 [==============================] - 15s 18ms/step - loss: 0.2278 - accuracy: 0.9306 - val_loss: 0.0809 - val_accuracy: 0.9758\n",
      "Epoch 2/6\n",
      "375/375 [==============================] - 6s 17ms/step - loss: 0.0537 - accuracy: 0.9834 - val_loss: 0.0545 - val_accuracy: 0.9837\n",
      "Epoch 3/6\n",
      "375/375 [==============================] - 7s 18ms/step - loss: 0.0325 - accuracy: 0.9898 - val_loss: 0.0448 - val_accuracy: 0.9868\n",
      "Epoch 4/6\n",
      "375/375 [==============================] - 6s 17ms/step - loss: 0.0224 - accuracy: 0.9930 - val_loss: 0.0437 - val_accuracy: 0.9868\n",
      "Epoch 5/6\n",
      "375/375 [==============================] - 6s 17ms/step - loss: 0.0148 - accuracy: 0.9954 - val_loss: 0.0477 - val_accuracy: 0.9877\n",
      "Epoch 6/6\n",
      "375/375 [==============================] - 6s 17ms/step - loss: 0.0098 - accuracy: 0.9969 - val_loss: 0.0448 - val_accuracy: 0.9883\n"
     ]
    }
   ],
   "source": [
    "history = model.fit(x_train, y_train, batch_size=128, \n",
    "epochs=6, verbose=1, validation_split=0.2)"
   ]
  },
  {
   "cell_type": "code",
   "execution_count": null,
   "id": "48c530fa",
   "metadata": {
    "colab": {
     "base_uri": "https://localhost:8080/"
    },
    "executionInfo": {
     "elapsed": 13,
     "status": "ok",
     "timestamp": 1645440513278,
     "user": {
      "displayName": "Rania Koutsoukou",
      "photoUrl": "https://lh3.googleusercontent.com/a/default-user=s64",
      "userId": "13018210882651396961"
     },
     "user_tz": -60
    },
    "id": "48c530fa",
    "outputId": "7860c0be-e652-43a1-c04d-6b718a8420af"
   },
   "outputs": [
    {
     "name": "stdout",
     "output_type": "stream",
     "text": [
      "Model: \"sequential_2\"\n",
      "_________________________________________________________________\n",
      " Layer (type)                Output Shape              Param #   \n",
      "=================================================================\n",
      " conv2d (Conv2D)             (None, 26, 26, 32)        320       \n",
      "                                                                 \n",
      " conv2d_1 (Conv2D)           (None, 24, 24, 64)        18496     \n",
      "                                                                 \n",
      " max_pooling2d (MaxPooling2D  (None, 12, 12, 64)       0         \n",
      " )                                                               \n",
      "                                                                 \n",
      " flatten (Flatten)           (None, 9216)              0         \n",
      "                                                                 \n",
      " dense_4 (Dense)             (None, 128)               1179776   \n",
      "                                                                 \n",
      " dense_5 (Dense)             (None, 10)                1290      \n",
      "                                                                 \n",
      "=================================================================\n",
      "Total params: 1,199,882\n",
      "Trainable params: 1,199,882\n",
      "Non-trainable params: 0\n",
      "_________________________________________________________________\n"
     ]
    }
   ],
   "source": [
    "model.summary()"
   ]
  },
  {
   "cell_type": "code",
   "execution_count": null,
   "id": "76c7e971",
   "metadata": {
    "colab": {
     "base_uri": "https://localhost:8080/",
     "height": 573
    },
    "executionInfo": {
     "elapsed": 492,
     "status": "ok",
     "timestamp": 1645440513760,
     "user": {
      "displayName": "Rania Koutsoukou",
      "photoUrl": "https://lh3.googleusercontent.com/a/default-user=s64",
      "userId": "13018210882651396961"
     },
     "user_tz": -60
    },
    "id": "76c7e971",
    "outputId": "99c0eb06-f5ac-417e-ca26-dea39d9a062a"
   },
   "outputs": [
    {
     "data": {
      "image/png": "[encoded data removed]",
      "text/plain": [
       "<Figure size 432x288 with 1 Axes>"
      ]
     },
     "metadata": {
      "needs_background": "light"
     },
     "output_type": "display_data"
    },
    {
     "data": {
      "image/png": "[encoded data removed]",
      "text/plain": [
       "<Figure size 432x288 with 1 Axes>"
      ]
     },
     "metadata": {
      "needs_background": "light"
     },
     "output_type": "display_data"
    }
   ],
   "source": [
    "plt.plot(history.history['accuracy'])\n",
    "plt.plot(history.history['val_accuracy'])\n",
    "plt.title('model accuracy')\n",
    "plt.ylabel('accuracy')\n",
    "plt.xlabel('epoch')\n",
    "plt.legend(['train', 'test'], loc='upper left')\n",
    "plt.show()\n",
    "plt.plot(history.history['loss'])\n",
    "plt.plot(history.history['val_loss'])\n",
    "plt.title('model loss')\n",
    "plt.ylabel('loss')\n",
    "plt.xlabel('epoch')\n",
    "plt.legend(['train', 'test'], loc='upper left')\n",
    "plt.show()"
   ]
  },
  {
   "cell_type": "markdown",
   "id": "1HKoUDPJyTWh",
   "metadata": {
    "id": "1HKoUDPJyTWh"
   },
   "source": [
    "### Question 11 (5 points)\n",
    "*Discuss with your group, then describe to your teacher, how the training history differs from the previous model, for the training and validation sets. What does this tell us about the generalisation of the model?*\n",
    "\n"
   ]
  },
  {
   "cell_type": "markdown",
   "id": "Dn5o5_bXywE6",
   "metadata": {
    "id": "Dn5o5_bXywE6"
   },
   "source": [
    "We can see that there is a deviance in the validation and training set both in the accuracy and in the model loss. Even though, this difference is not that significant in the model accuracy (about 0.01) still it exists, which indicates overfitting of the model, thus it cannot be generalised. On top of that, the difference in the model loss is staggering as it is about 0.04 which a clear indication of overfitting on the training set.\n",
    "Description of the accuracy"
   ]
  },
  {
   "cell_type": "markdown",
   "id": "1vOBkSsgyxWZ",
   "metadata": {
    "id": "1vOBkSsgyxWZ"
   },
   "source": [
    "### Question 12 (5 points)\n",
    "*Show your teacher what values you get for the model’s accuracy and loss.*"
   ]
  },
  {
   "cell_type": "code",
   "execution_count": null,
   "id": "KjGaVbL3zCHC",
   "metadata": {
    "colab": {
     "base_uri": "https://localhost:8080/"
    },
    "executionInfo": {
     "elapsed": 1336,
     "status": "ok",
     "timestamp": 1645440515094,
     "user": {
      "displayName": "Rania Koutsoukou",
      "photoUrl": "https://lh3.googleusercontent.com/a/default-user=s64",
      "userId": "13018210882651396961"
     },
     "user_tz": -60
    },
    "id": "KjGaVbL3zCHC",
    "outputId": "f7910e70-6a14-4a32-c847-010704375955"
   },
   "outputs": [
    {
     "data": {
      "text/plain": [
       "(0.030627718195319176, 0.9908000230789185)"
      ]
     },
     "execution_count": 23,
     "metadata": {},
     "output_type": "execute_result"
    }
   ],
   "source": [
    "loss, accuracy = model.evaluate(x_test, y_test, verbose=0)\n",
    "loss, accuracy"
   ]
  },
  {
   "cell_type": "markdown",
   "id": "a3G4j8_fyxQo",
   "metadata": {
    "id": "a3G4j8_fyxQo"
   },
   "source": [
    "### Question 13 (5 points)\n",
    "*Discuss with your group, then describe to your teacher, whether this accuracy is \n",
    "sufficient for some uses of automatic hand-written digit classification.*"
   ]
  },
  {
   "cell_type": "markdown",
   "id": "Br6PtzIgyxIo",
   "metadata": {
    "id": "Br6PtzIgyxIo"
   },
   "source": [
    "Even though, the accuracy of both training and validation set is significantly increased from 0.92(flatten model) to 0.99 which is good for applications such as postal codes, processing of physical surveys or scanning prices but it wouldn't be trusted for money transactions as the number of digits could be plenty which basically decreases the probability of having them all correct guessed and the consequencies of a mistake are severe."
   ]
  },
  {
   "cell_type": "markdown",
   "id": "CqLogbZlzPnA",
   "metadata": {
    "id": "CqLogbZlzPnA"
   },
   "source": [
    "### Question 14 (3 points)\n",
    "*Add dropout layers (model.add(keras.layers.Dropout(rate=x))) after the \n",
    "max pooling stage (x = 0.25) and after the fully-connected (dense) layer (x = 0.5). \n",
    "Compile and train the resulting model as before. \n",
    "Discuss with your group, then describe to your teacher, how the training history \n",
    "differs from the previous (convolutional) model, for both the training and validation \n",
    "sets, and for the time taken to run each model epoch.*\n"
   ]
  },
  {
   "cell_type": "markdown",
   "id": "M3-db_rHz9Ly",
   "metadata": {
    "id": "M3-db_rHz9Ly"
   },
   "source": [
    "### *Answer*!!!!!!!!!"
   ]
  },
  {
   "cell_type": "code",
   "execution_count": null,
   "id": "be6e6be4",
   "metadata": {
    "id": "be6e6be4"
   },
   "outputs": [],
   "source": [
    "model = keras.Sequential()\n",
    "model.add(keras.layers.Conv2D(filters=32, kernel_size=(3, 3), \n",
    "activation=\"relu\", input_shape=(28, 28,1)))\n",
    "model.add(keras.layers.Conv2D(filters=64, kernel_size=(3, 3), \n",
    "activation=\"relu\"))\n",
    "model.add(keras.layers.MaxPool2D(pool_size=(2, 2)))\n",
    "model.add(keras.layers.Flatten())\n",
    "model.add(keras.layers.Dropout(rate=0.25))\n",
    "model.add(keras.layers.Dense(128, activation=\"relu\"))\n",
    "model.add(keras.layers.Dropout(rate=0.5))\n",
    "model.add(keras.layers.Dense(10, activation=\"softmax\"))\n",
    "model.compile(loss='categorical_crossentropy',optimizer=keras.optimizers.Adadelta(learning_rate=1), \n",
    "metrics='accuracy') "
   ]
  },
  {
   "cell_type": "code",
   "execution_count": null,
   "id": "G3Iw0MiGzaBe",
   "metadata": {
    "colab": {
     "base_uri": "https://localhost:8080/"
    },
    "executionInfo": {
     "elapsed": 40520,
     "status": "ok",
     "timestamp": 1645440555612,
     "user": {
      "displayName": "Rania Koutsoukou",
      "photoUrl": "https://lh3.googleusercontent.com/a/default-user=s64",
      "userId": "13018210882651396961"
     },
     "user_tz": -60
    },
    "id": "G3Iw0MiGzaBe",
    "outputId": "a0bbdc9a-f0d1-4055-effb-3f637df582e5"
   },
   "outputs": [
    {
     "name": "stdout",
     "output_type": "stream",
     "text": [
      "Epoch 1/6\n",
      "375/375 [==============================] - 8s 18ms/step - loss: 0.3116 - accuracy: 0.9038 - val_loss: 0.0798 - val_accuracy: 0.9771\n",
      "Epoch 2/6\n",
      "375/375 [==============================] - 7s 17ms/step - loss: 0.1048 - accuracy: 0.9689 - val_loss: 0.0576 - val_accuracy: 0.9829\n",
      "Epoch 3/6\n",
      "375/375 [==============================] - 7s 17ms/step - loss: 0.0784 - accuracy: 0.9769 - val_loss: 0.0480 - val_accuracy: 0.9864\n",
      "Epoch 4/6\n",
      "375/375 [==============================] - 6s 17ms/step - loss: 0.0610 - accuracy: 0.9823 - val_loss: 0.0453 - val_accuracy: 0.9881\n",
      "Epoch 5/6\n",
      "375/375 [==============================] - 7s 18ms/step - loss: 0.0542 - accuracy: 0.9831 - val_loss: 0.0486 - val_accuracy: 0.9866\n",
      "Epoch 6/6\n",
      "375/375 [==============================] - 7s 17ms/step - loss: 0.0470 - accuracy: 0.9859 - val_loss: 0.0399 - val_accuracy: 0.9897\n"
     ]
    }
   ],
   "source": [
    "history = model.fit(x_train, y_train, batch_size=128, \n",
    "epochs=6, verbose=1, validation_split=0.2)"
   ]
  },
  {
   "cell_type": "code",
   "execution_count": null,
   "id": "Z0nga2Erzail",
   "metadata": {
    "colab": {
     "base_uri": "https://localhost:8080/",
     "height": 573
    },
    "executionInfo": {
     "elapsed": 683,
     "status": "ok",
     "timestamp": 1645440556286,
     "user": {
      "displayName": "Rania Koutsoukou",
      "photoUrl": "https://lh3.googleusercontent.com/a/default-user=s64",
      "userId": "13018210882651396961"
     },
     "user_tz": -60
    },
    "id": "Z0nga2Erzail",
    "outputId": "5cf86e74-9932-4a0a-df30-27a44cacab30"
   },
   "outputs": [
    {
     "data": {
      "image/png": "[encoded data removed]",
      "text/plain": [
       "<Figure size 432x288 with 1 Axes>"
      ]
     },
     "metadata": {
      "needs_background": "light"
     },
     "output_type": "display_data"
    },
    {
     "data": {
      "image/png": "[encoded data removed]",
      "text/plain": [
       "<Figure size 432x288 with 1 Axes>"
      ]
     },
     "metadata": {
      "needs_background": "light"
     },
     "output_type": "display_data"
    }
   ],
   "source": [
    "plt.plot(history.history['accuracy'])\n",
    "plt.plot(history.history['val_accuracy'])\n",
    "plt.title('model accuracy')\n",
    "plt.ylabel('accuracy')\n",
    "plt.xlabel('epoch')\n",
    "plt.legend(['train', 'test'], loc='upper left')\n",
    "plt.show()\n",
    "plt.plot(history.history['loss'])\n",
    "plt.plot(history.history['val_loss'])\n",
    "plt.title('model loss')\n",
    "plt.ylabel('loss')\n",
    "plt.xlabel('epoch')\n",
    "plt.legend(['train', 'test'], loc='upper left')\n",
    "plt.show()"
   ]
  },
  {
   "cell_type": "markdown",
   "id": "9L7pQfHJzl2I",
   "metadata": {
    "id": "9L7pQfHJzl2I"
   },
   "source": [
    "### Question 15 (3 points)\n",
    "*Discuss with your group, then describe to your teacher, what this tells us about the \n",
    "generalisation of the two models.*"
   ]
  },
  {
   "cell_type": "markdown",
   "id": "B2SciY2ezrzM",
   "metadata": {
    "id": "B2SciY2ezrzM"
   },
   "source": [
    "Even though, the accuracy and model loss are worse than the previous model in general, this model is more generalisable as the validation loss is lower than the one in the training set and the accuracy in the validation set is higher than the one in the training set. "
   ]
  },
  {
   "cell_type": "markdown",
   "id": "NRo553O11pIe",
   "metadata": {
    "id": "NRo553O11pIe"
   },
   "source": [
    "### Question 16 (6 points)\n",
    "*Before fitting the model, show your teacher the code you used to define the model described here.*"
   ]
  },
  {
   "cell_type": "code",
   "execution_count": null,
   "id": "cH_2QmZ_zam2",
   "metadata": {
    "colab": {
     "base_uri": "https://localhost:8080/"
    },
    "executionInfo": {
     "elapsed": 4000,
     "status": "ok",
     "timestamp": 1645440560280,
     "user": {
      "displayName": "Rania Koutsoukou",
      "photoUrl": "https://lh3.googleusercontent.com/a/default-user=s64",
      "userId": "13018210882651396961"
     },
     "user_tz": -60
    },
    "id": "cH_2QmZ_zam2",
    "outputId": "cd1aa6ab-c099-4659-c298-bed27b48e930"
   },
   "outputs": [
    {
     "name": "stdout",
     "output_type": "stream",
     "text": [
      "Downloading data from https://www.cs.toronto.edu/~kriz/cifar-10-python.tar.gz\n",
      "170500096/170498071 [==============================] - 2s 0us/step\n",
      "170508288/170498071 [==============================] - 2s 0us/step\n"
     ]
    }
   ],
   "source": [
    "(x_train, y_train), (x_test, y_test) = keras.datasets.cifar10.load_data()"
   ]
  },
  {
   "cell_type": "code",
   "execution_count": null,
   "id": "JPvtGHX6zaqR",
   "metadata": {
    "id": "JPvtGHX6zaqR"
   },
   "outputs": [],
   "source": [
    "x_train=x_train/255\n",
    "x_test=x_test/255"
   ]
  },
  {
   "cell_type": "code",
   "execution_count": null,
   "id": "JEwYM3bq2jqi",
   "metadata": {
    "id": "JEwYM3bq2jqi"
   },
   "outputs": [],
   "source": [
    "y_train= keras.utils.to_categorical(y_train, 10)\n",
    "y_test= keras.utils.to_categorical(y_test, 10)"
   ]
  },
  {
   "cell_type": "code",
   "execution_count": null,
   "id": "1yRqekAF2jtr",
   "metadata": {
    "id": "1yRqekAF2jtr"
   },
   "outputs": [],
   "source": [
    "model = keras.Sequential()\n",
    "model.add(keras.layers.Conv2D(filters=32, kernel_size=(3, 3),\n",
    "activation=\"relu\", input_shape=(32, 32, 3), padding = \"same\"))\n",
    "model.add(keras.layers.Conv2D(filters=32, kernel_size=(3, 3),\n",
    "activation=\"relu\"))\n",
    "model.add(keras.layers.MaxPool2D(pool_size=(2, 2)))\n",
    "model.add(keras.layers.Dropout(rate=0.25))\n",
    "\n",
    "model.add(keras.layers.Conv2D(filters=32, kernel_size=(3, 3),\n",
    "activation=\"relu\", padding = \"same\"))\n",
    "model.add(keras.layers.Conv2D(filters=32, kernel_size=(3, 3),\n",
    "activation=\"relu\"))\n",
    "model.add(keras.layers.MaxPool2D(pool_size=(2, 2)))\n",
    "model.add(keras.layers.Dropout(rate=0.25))\n",
    "\n",
    "model.add(keras.layers.Flatten())\n",
    "model.add(keras.layers.Dense(512, activation=\"relu\"))\n",
    "model.add(keras.layers.Dropout(rate=0.5))\n",
    "model.add(keras.layers.Dense(10, activation=\"softmax\"))\n",
    "model.compile(loss='categorical_crossentropy', optimizer = keras.optimizers.RMSprop(learning_rate=0.0001,\n",
    "decay=1e-6),metrics='accuracy')"
   ]
  },
  {
   "cell_type": "code",
   "execution_count": null,
   "id": "CUhM8l9q2jxN",
   "metadata": {
    "colab": {
     "base_uri": "https://localhost:8080/"
    },
    "executionInfo": {
     "elapsed": 504236,
     "status": "ok",
     "timestamp": 1645441065444,
     "user": {
      "displayName": "Rania Koutsoukou",
      "photoUrl": "https://lh3.googleusercontent.com/a/default-user=s64",
      "userId": "13018210882651396961"
     },
     "user_tz": -60
    },
    "id": "CUhM8l9q2jxN",
    "outputId": "ba3863da-5404-44f2-dfd0-7cbd0bc13d51"
   },
   "outputs": [
    {
     "name": "stdout",
     "output_type": "stream",
     "text": [
      "Epoch 1/20\n",
      "1563/1563 [==============================] - 23s 14ms/step - loss: 1.8755 - accuracy: 0.3070 - val_loss: 1.6074 - val_accuracy: 0.4152\n",
      "Epoch 2/20\n",
      "1563/1563 [==============================] - 22s 14ms/step - loss: 1.5890 - accuracy: 0.4153 - val_loss: 1.4626 - val_accuracy: 0.4674\n",
      "Epoch 3/20\n",
      "1563/1563 [==============================] - 20s 13ms/step - loss: 1.4585 - accuracy: 0.4727 - val_loss: 1.4432 - val_accuracy: 0.4955\n",
      "Epoch 4/20\n",
      "1563/1563 [==============================] - 23s 14ms/step - loss: 1.3694 - accuracy: 0.5095 - val_loss: 1.3100 - val_accuracy: 0.5354\n",
      "Epoch 5/20\n",
      "1563/1563 [==============================] - 23s 15ms/step - loss: 1.3022 - accuracy: 0.5368 - val_loss: 1.1985 - val_accuracy: 0.5777\n",
      "Epoch 6/20\n",
      "1563/1563 [==============================] - 22s 14ms/step - loss: 1.2436 - accuracy: 0.5589 - val_loss: 1.1452 - val_accuracy: 0.5984\n",
      "Epoch 7/20\n",
      "1563/1563 [==============================] - 23s 15ms/step - loss: 1.1917 - accuracy: 0.5782 - val_loss: 1.0936 - val_accuracy: 0.6136\n",
      "Epoch 8/20\n",
      "1563/1563 [==============================] - 22s 14ms/step - loss: 1.1428 - accuracy: 0.5974 - val_loss: 1.0674 - val_accuracy: 0.6250\n",
      "Epoch 9/20\n",
      "1563/1563 [==============================] - 23s 15ms/step - loss: 1.0996 - accuracy: 0.6126 - val_loss: 1.0712 - val_accuracy: 0.6221\n",
      "Epoch 10/20\n",
      "1563/1563 [==============================] - 22s 14ms/step - loss: 1.0685 - accuracy: 0.6230 - val_loss: 0.9988 - val_accuracy: 0.6461\n",
      "Epoch 11/20\n",
      "1563/1563 [==============================] - 22s 14ms/step - loss: 1.0315 - accuracy: 0.6364 - val_loss: 0.9556 - val_accuracy: 0.6658\n",
      "Epoch 12/20\n",
      "1563/1563 [==============================] - 24s 15ms/step - loss: 1.0038 - accuracy: 0.6461 - val_loss: 0.9267 - val_accuracy: 0.6768\n",
      "Epoch 13/20\n",
      "1563/1563 [==============================] - 22s 14ms/step - loss: 0.9752 - accuracy: 0.6557 - val_loss: 0.9072 - val_accuracy: 0.6811\n",
      "Epoch 14/20\n",
      "1563/1563 [==============================] - 23s 15ms/step - loss: 0.9532 - accuracy: 0.6644 - val_loss: 0.9244 - val_accuracy: 0.6868\n",
      "Epoch 15/20\n",
      "1563/1563 [==============================] - 22s 14ms/step - loss: 0.9334 - accuracy: 0.6705 - val_loss: 0.8875 - val_accuracy: 0.6926\n",
      "Epoch 16/20\n",
      "1563/1563 [==============================] - 21s 14ms/step - loss: 0.9186 - accuracy: 0.6780 - val_loss: 0.8959 - val_accuracy: 0.6928\n",
      "Epoch 17/20\n",
      "1563/1563 [==============================] - 23s 14ms/step - loss: 0.9003 - accuracy: 0.6847 - val_loss: 0.8710 - val_accuracy: 0.6984\n",
      "Epoch 18/20\n",
      "1563/1563 [==============================] - 23s 15ms/step - loss: 0.8820 - accuracy: 0.6913 - val_loss: 0.8365 - val_accuracy: 0.7081\n",
      "Epoch 19/20\n",
      "1563/1563 [==============================] - 24s 15ms/step - loss: 0.8741 - accuracy: 0.6944 - val_loss: 0.8173 - val_accuracy: 0.7143\n",
      "Epoch 20/20\n",
      "1563/1563 [==============================] - 23s 15ms/step - loss: 0.8609 - accuracy: 0.6991 - val_loss: 0.8308 - val_accuracy: 0.7117\n"
     ]
    }
   ],
   "source": [
    "history = model.fit(x_train, y_train, batch_size=32, \n",
    "epochs=20, verbose=1, validation_data=(x_test, y_test),shuffle = True)"
   ]
  },
  {
   "cell_type": "code",
   "execution_count": null,
   "id": "IDgHRLVT2jzs",
   "metadata": {
    "colab": {
     "base_uri": "https://localhost:8080/"
    },
    "executionInfo": {
     "elapsed": 29,
     "status": "ok",
     "timestamp": 1645441065444,
     "user": {
      "displayName": "Rania Koutsoukou",
      "photoUrl": "https://lh3.googleusercontent.com/a/default-user=s64",
      "userId": "13018210882651396961"
     },
     "user_tz": -60
    },
    "id": "IDgHRLVT2jzs",
    "outputId": "f3a7c31d-6657-4143-d5e3-42de2652a535"
   },
   "outputs": [
    {
     "name": "stdout",
     "output_type": "stream",
     "text": [
      "Model: \"sequential_4\"\n",
      "_________________________________________________________________\n",
      " Layer (type)                Output Shape              Param #   \n",
      "=================================================================\n",
      " conv2d_4 (Conv2D)           (None, 32, 32, 32)        896       \n",
      "                                                                 \n",
      " conv2d_5 (Conv2D)           (None, 30, 30, 32)        9248      \n",
      "                                                                 \n",
      " max_pooling2d_2 (MaxPooling  (None, 15, 15, 32)       0         \n",
      " 2D)                                                             \n",
      "                                                                 \n",
      " dropout_2 (Dropout)         (None, 15, 15, 32)        0         \n",
      "                                                                 \n",
      " conv2d_6 (Conv2D)           (None, 15, 15, 32)        9248      \n",
      "                                                                 \n",
      " conv2d_7 (Conv2D)           (None, 13, 13, 32)        9248      \n",
      "                                                                 \n",
      " max_pooling2d_3 (MaxPooling  (None, 6, 6, 32)         0         \n",
      " 2D)                                                             \n",
      "                                                                 \n",
      " dropout_3 (Dropout)         (None, 6, 6, 32)          0         \n",
      "                                                                 \n",
      " flatten_2 (Flatten)         (None, 1152)              0         \n",
      "                                                                 \n",
      " dense_8 (Dense)             (None, 512)               590336    \n",
      "                                                                 \n",
      " dropout_4 (Dropout)         (None, 512)               0         \n",
      "                                                                 \n",
      " dense_9 (Dense)             (None, 10)                5130      \n",
      "                                                                 \n",
      "=================================================================\n",
      "Total params: 624,106\n",
      "Trainable params: 624,106\n",
      "Non-trainable params: 0\n",
      "_________________________________________________________________\n"
     ]
    }
   ],
   "source": [
    "model.summary()"
   ]
  },
  {
   "cell_type": "markdown",
   "id": "tMrWC0tV2yrz",
   "metadata": {
    "id": "tMrWC0tV2yrz"
   },
   "source": [
    "### Question 17\n",
    "*Plot the training history and show it to your teacher*\n"
   ]
  },
  {
   "cell_type": "code",
   "execution_count": null,
   "id": "eMNgGee326i3",
   "metadata": {
    "colab": {
     "base_uri": "https://localhost:8080/",
     "height": 573
    },
    "executionInfo": {
     "elapsed": 646,
     "status": "ok",
     "timestamp": 1645441066077,
     "user": {
      "displayName": "Rania Koutsoukou",
      "photoUrl": "https://lh3.googleusercontent.com/a/default-user=s64",
      "userId": "13018210882651396961"
     },
     "user_tz": -60
    },
    "id": "eMNgGee326i3",
    "outputId": "5ffcac59-c020-4eec-a172-c54d12240272"
   },
   "outputs": [
    {
     "data": {
      "image/png": "[encoded data removed]",
      "text/plain": [
       "<Figure size 432x288 with 1 Axes>"
      ]
     },
     "metadata": {
      "needs_background": "light"
     },
     "output_type": "display_data"
    },
    {
     "data": {
      "image/png": "[encoded data removed]",
      "text/plain": [
       "<Figure size 432x288 with 1 Axes>"
      ]
     },
     "metadata": {
      "needs_background": "light"
     },
     "output_type": "display_data"
    }
   ],
   "source": [
    "plt.plot(history.history['accuracy'])\n",
    "plt.plot(history.history['val_accuracy'])\n",
    "plt.title('model accuracy')\n",
    "plt.ylabel('accuracy')\n",
    "plt.xlabel('epoch')\n",
    "plt.legend(['train', 'test'], loc='upper left')\n",
    "plt.show()\n",
    "plt.plot(history.history['loss'])\n",
    "plt.plot(history.history['val_loss'])\n",
    "plt.title('model loss')\n",
    "plt.ylabel('loss')\n",
    "plt.xlabel('epoch')\n",
    "plt.legend(['train', 'test'], loc='upper left')\n",
    "plt.show()"
   ]
  },
  {
   "cell_type": "code",
   "execution_count": null,
   "id": "EN5IhlXc26rr",
   "metadata": {
    "colab": {
     "base_uri": "https://localhost:8080/"
    },
    "executionInfo": {
     "elapsed": 3078,
     "status": "ok",
     "timestamp": 1645441212274,
     "user": {
      "displayName": "Rania Koutsoukou",
      "photoUrl": "https://lh3.googleusercontent.com/a/default-user=s64",
      "userId": "13018210882651396961"
     },
     "user_tz": -60
    },
    "id": "EN5IhlXc26rr",
    "outputId": "7d2175b3-10d7-4bb0-ddcd-557ee4db021c"
   },
   "outputs": [
    {
     "data": {
      "text/plain": [
       "(0.830750584602356, 0.7117000222206116)"
      ]
     },
     "execution_count": 34,
     "metadata": {},
     "output_type": "execute_result"
    }
   ],
   "source": [
    "loss, accuracy = model.evaluate(x_test, y_test, verbose=0)\n",
    "loss, accuracy"
   ]
  },
  {
   "cell_type": "markdown",
   "id": "QaSTBoa43Ofr",
   "metadata": {
    "id": "QaSTBoa43Ofr"
   },
   "source": [
    "### Question 18\n",
    "*Discuss with your group, then describe to your teacher, how the training history\n",
    "differs from the convolutional model for digit recognition and why.*"
   ]
  },
  {
   "cell_type": "markdown",
   "id": "buIW0hRY3Z0K",
   "metadata": {
    "id": "buIW0hRY3Z0K"
   },
   "source": [
    "- The accuracy doesn't reach a plateau\n",
    "- Learning rate is lower, thus the accuracy is lower\n",
    "- The task here is more complex than digit recognition(why)\n",
    "\n",
    "number of the accuracy (0.70)"
   ]
  },
  {
   "cell_type": "markdown",
   "id": "scrY0TX33an-",
   "metadata": {
    "id": "scrY0TX33an-"
   },
   "source": [
    "### Question 19\n",
    "*Discuss with your group, then describe to your teacher, how the time taken for each\n",
    "training epoch differs from the convolutional model for digit recognition. Give several\n",
    "factors that may contribute to this difference.*"
   ]
  },
  {
   "cell_type": "markdown",
   "id": "ID78-c9c3tAW",
   "metadata": {
    "id": "ID78-c9c3tAW"
   },
   "source": [
    "- Almost double time\n",
    "- Twice as mayn convolutional layers (extra explanation)\n",
    "- Bigger images in dimensions (32x32)\n",
    "- Colored images (3 times bigger than a grayscale)\n",
    "- The dense layers have 512 neurons instead of 128 neurons\n",
    "- Even though the batch size is lower (32 vs 128) the model complexity plays a more significant role\n",
    "- Even though the filters in the second convolutional layer are reduced to 32 (instead of 64), is still not enough to equalize the training time in those models\n"
   ]
  },
  {
   "cell_type": "markdown",
   "id": "HGiAn9cvEH6T",
   "metadata": {
    "id": "HGiAn9cvEH6T"
   },
   "source": [
    "### Question 20 (5 points)\n",
    "*Write a simple function that achieves the convolution operation efficiently for twodimensional and three-dimensional inputs. This should allow you to input a set of\n",
    "convolutional filters (‘kernels’ in Keras’s terminology) and an input layer (or image)\n",
    "as inputs. The input layer should have a third dimension, representing a stack of\n",
    "feature maps, and each filter should have a third dimension of corresponding size.\n",
    "The function should output a number of two-dimensional feature maps\n",
    "corresponding to the number of input filters, though these can be stacked into a third\n",
    "dimensional like the input layer. After agreeing on a common function with your\n",
    "group members, show this to your teacher*"
   ]
  },
  {
   "cell_type": "code",
   "execution_count": null,
   "id": "vp7ju7l_AzAr",
   "metadata": {
    "id": "vp7ju7l_AzAr"
   },
   "outputs": [],
   "source": [
    "output_matrix_list = []\n",
    "input_matrix=inpt\n",
    "filter_matrix=filter1\n",
    "#k=l always\n",
    "#for l in range(input_matrix.shape[0]):\n",
    "    output_layer=[]\n",
    "    for k in range(0,len(filter_matrix)):\n",
    "        l=k\n",
    "        output_list = []\n",
    "        for i in range(0,input_matrix.shape[1]-filter_matrix[k].shape[0]+1):\n",
    "            for j in range(0,input_matrix.shape[2]-filter_matrix[k].shape[1]+1):\n",
    "                output_list.append(np.multiply(input_matrix[l][i:filter_matrix[k].shape[1]+i, j:filter_matrix[k].shape[1]+j], filter_matrix[k]).sum())\n",
    "        output_matrix_list.append(np.matrix(np.array_split(output_list, input_matrix.shape[2]-filter_matrix[k].shape[0]+1)))\n",
    "    output_layer.append(output_matrix_list)"
   ]
  },
  {
   "cell_type": "code",
   "execution_count": null,
   "id": "7zeZk22nAyu5",
   "metadata": {
    "id": "7zeZk22nAyu5"
   },
   "outputs": [],
   "source": [
    "def convolutional_operation(input_matrix, filter_matrix):\n",
    "    output_matrix_list = []\n",
    "    for k in range(0,len(filter_matrix)):\n",
    "        output_list = []\n",
    "        for i in range(0,input_matrix.shape[0]-filter_matrix[k].shape[0]+1):\n",
    "            for j in range(0,input_matrix.shape[1]-filter_matrix[k].shape[1]+1):\n",
    "                output_list.append(np.multiply(input_matrix[i:filter_matrix[k].shape[0]+i, j:filter_matrix[k].shape[1]+j], filter_matrix[k]).sum())\n",
    "        output_matrix_list.append(np.matrix(np.array_split(output_list, input_matrix.shape[1]-filter_matrix[k].shape[1]+1)))\n",
    "    return output_matrix_list"
   ]
  },
  {
   "cell_type": "code",
   "execution_count": null,
   "id": "kfvChH853tOq",
   "metadata": {
    "id": "kfvChH853tOq"
   },
   "outputs": [],
   "source": [
    "convolutional_operation(inpt, filter1)"
   ]
  },
  {
   "cell_type": "markdown",
   "id": "20gW3LDvgdUV",
   "metadata": {
    "id": "20gW3LDvgdUV"
   },
   "source": [
    "### Question 21 (2 Points)\n",
    "*Write a simple function that achieves rectified linear (relu) activation over a whole \n",
    "feature map, with a threshold at zero. After agreeing on a common function with your \n",
    "group members, show this to your teacher.*"
   ]
  },
  {
   "cell_type": "code",
   "execution_count": null,
   "id": "-BmZpMOsgI_E",
   "metadata": {
    "id": "-BmZpMOsgI_E"
   },
   "outputs": [],
   "source": [
    "def relu_activation(inpt):\n",
    "  output=inpt.copy()\n",
    "  output[output<0]=0\n",
    "  return output  "
   ]
  },
  {
   "cell_type": "code",
   "execution_count": null,
   "id": "X94K5TyMgxm9",
   "metadata": {
    "colab": {
     "base_uri": "https://localhost:8080/"
    },
    "executionInfo": {
     "elapsed": 193,
     "status": "ok",
     "timestamp": 1645786414996,
     "user": {
      "displayName": "Emmanouil Iliakis",
      "photoUrl": "https://lh3.googleusercontent.com/a/default-user=s64",
      "userId": "18171427270980556191"
     },
     "user_tz": -60
    },
    "id": "X94K5TyMgxm9",
    "outputId": "4a8bb398-e1fd-48aa-ce83-a2f7f2b0ec31"
   },
   "outputs": [
    {
     "name": "stdout",
     "output_type": "stream",
     "text": [
      "[[-1  2  3]\n",
      " [ 4 -5  6]\n",
      " [ 7  8 -9]]\n"
     ]
    },
    {
     "data": {
      "text/plain": [
       "matrix([[0, 2, 3],\n",
       "        [4, 0, 6],\n",
       "        [7, 8, 0]])"
      ]
     },
     "execution_count": 6,
     "metadata": {},
     "output_type": "execute_result"
    }
   ],
   "source": [
    "inpt=np.matrix([[-1,2,3],[4,-5,6],[7,8,-9]])\n",
    "print(inpt)\n",
    "relu_activation(inpt)bbb"
   ]
  },
  {
   "cell_type": "code",
   "execution_count": 1,
   "id": "12261fda",
   "metadata": {},
   "outputs": [],
   "source": [
    "import numpy as np\n",
    "np.random.normal()"
   ]
  },
  {
   "cell_type": "code",
   "execution_count": 9,
   "id": "44f62ab5",
   "metadata": {},
   "outputs": [],
   "source": [
    "activation=np.array([0.25,0.5,0.75,1,0.3,0.7])\n",
    "softmax_out=activation/sum(np.exp(activation))"
   ]
  },
  {
   "cell_type": "code",
   "execution_count": 11,
   "id": "771749a7",
   "metadata": {},
   "outputs": [],
   "source": [
    "def softmax(input_layer):\n",
    "    return input_layer/sum(np.exp(input_layer))\n"
   ]
  },
  {
   "cell_type": "code",
   "execution_count": 12,
   "id": "bcf3413b",
   "metadata": {},
   "outputs": [
    {
     "data": {
      "text/plain": [
       "array([0.02245851, 0.04491701, 0.06737552, 0.08983402, 0.02695021,\n",
       "       0.06288382])"
      ]
     },
     "execution_count": 12,
     "metadata": {},
     "output_type": "execute_result"
    }
   ],
   "source": [
    "softmax(activation)"
   ]
  }
 ],
 "metadata": {
  "accelerator": "GPU",
  "colab": {
   "collapsed_sections": [],
   "name": "lab_1.ipynb",
   "provenance": []
  },
  "kernelspec": {
   "display_name": "Python 3 (ipykernel)",
   "language": "python",
   "name": "python3"
  },
  "language_info": {
   "codemirror_mode": {
    "name": "ipython",
    "version": 3
   },
   "file_extension": ".py",
   "mimetype": "text/x-python",
   "name": "python",
   "nbconvert_exporter": "python",
   "pygments_lexer": "ipython3",
   "version": "3.8.8"
  }
 },
 "nbformat": 4,
 "nbformat_minor": 5
}
